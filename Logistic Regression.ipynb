{
 "cells": [
  {
   "cell_type": "markdown",
   "metadata": {},
   "source": [
    "# <Center>Logistic Regression Implementation"
   ]
  },
  {
   "cell_type": "code",
   "execution_count": 1,
   "metadata": {
    "collapsed": true
   },
   "outputs": [],
   "source": [
    "import os\n",
    "import pandas as pd\n",
    "import numpy as np\n",
    "import matplotlib.pyplot as plt\n",
    "import seaborn as sns\n",
    "from scipy import stats\n",
    "from math import sqrt\n",
    "from sklearn.model_selection import train_test_split, cross_val_score\n",
    "from sklearn.dummy import DummyRegressor\n",
    "from sklearn.linear_model import LinearRegression, Lasso, Ridge,SGDRegressor,LogisticRegression\n",
    "from sklearn.metrics import mean_squared_error,r2_score\n",
    "from sklearn.preprocessing import StandardScaler\n",
    "from sklearn.preprocessing import LabelEncoder\n",
    "from sklearn.preprocessing import PolynomialFeatures\n",
    "import statsmodels.api as sm\n",
    "%matplotlib inline"
   ]
  },
  {
   "cell_type": "code",
   "execution_count": 2,
   "metadata": {
    "collapsed": true
   },
   "outputs": [],
   "source": [
    "os.chdir(\"D:/Imarticus/Supervised Learning/Logistic Regression/Data Shared by sir\")\n",
    "netflix_df=pd.read_csv('D:/Imarticus/Supervised Learning/Logistic Regression/Data Shared by sir/netflix.csv')"
   ]
  },
  {
   "cell_type": "code",
   "execution_count": 3,
   "metadata": {
    "collapsed": true
   },
   "outputs": [
    {
     "data": {
      "text/html": [
       "<div>\n",
       "<style scoped>\n",
       "    .dataframe tbody tr th:only-of-type {\n",
       "        vertical-align: middle;\n",
       "    }\n",
       "\n",
       "    .dataframe tbody tr th {\n",
       "        vertical-align: top;\n",
       "    }\n",
       "\n",
       "    .dataframe thead th {\n",
       "        text-align: right;\n",
       "    }\n",
       "</style>\n",
       "<table border=\"1\" class=\"dataframe\">\n",
       "  <thead>\n",
       "    <tr style=\"text-align: right;\">\n",
       "      <th></th>\n",
       "      <th>Age</th>\n",
       "      <th>Subscription</th>\n",
       "    </tr>\n",
       "  </thead>\n",
       "  <tbody>\n",
       "    <tr>\n",
       "      <th>0</th>\n",
       "      <td>62</td>\n",
       "      <td>1</td>\n",
       "    </tr>\n",
       "    <tr>\n",
       "      <th>1</th>\n",
       "      <td>18</td>\n",
       "      <td>0</td>\n",
       "    </tr>\n",
       "    <tr>\n",
       "      <th>2</th>\n",
       "      <td>40</td>\n",
       "      <td>0</td>\n",
       "    </tr>\n",
       "    <tr>\n",
       "      <th>3</th>\n",
       "      <td>51</td>\n",
       "      <td>1</td>\n",
       "    </tr>\n",
       "    <tr>\n",
       "      <th>4</th>\n",
       "      <td>37</td>\n",
       "      <td>1</td>\n",
       "    </tr>\n",
       "  </tbody>\n",
       "</table>\n",
       "</div>"
      ],
      "text/plain": [
       "   Age  Subscription\n",
       "0   62             1\n",
       "1   18             0\n",
       "2   40             0\n",
       "3   51             1\n",
       "4   37             1"
      ]
     },
     "execution_count": 3,
     "metadata": {},
     "output_type": "execute_result"
    }
   ],
   "source": [
    "netflix_df.head()"
   ]
  },
  {
   "cell_type": "code",
   "execution_count": 4,
   "metadata": {
    "collapsed": true
   },
   "outputs": [],
   "source": [
    "y=netflix_df.Subscription\n",
    "x=netflix_df.Age"
   ]
  },
  {
   "cell_type": "code",
   "execution_count": 5,
   "metadata": {
    "collapsed": true
   },
   "outputs": [],
   "source": [
    "logit_model=sm.Logit(y,x)"
   ]
  },
  {
   "cell_type": "code",
   "execution_count": 6,
   "metadata": {
    "collapsed": true
   },
   "outputs": [
    {
     "name": "stdout",
     "output_type": "stream",
     "text": [
      "Optimization terminated successfully.\n",
      "         Current function value: 0.637599\n",
      "         Iterations 4\n"
     ]
    }
   ],
   "source": [
    "result=logit_model.fit()"
   ]
  },
  {
   "cell_type": "code",
   "execution_count": 7,
   "metadata": {
    "collapsed": true
   },
   "outputs": [
    {
     "data": {
      "text/html": [
       "<table class=\"simpletable\">\n",
       "<tr>\n",
       "        <td>Model:</td>              <td>Logit</td>      <td>Pseudo R-squared:</td>  <td>0.053</td> \n",
       "</tr>\n",
       "<tr>\n",
       "  <td>Dependent Variable:</td>   <td>Subscription</td>         <td>AIC:</td>        <td>27.5040</td>\n",
       "</tr>\n",
       "<tr>\n",
       "         <td>Date:</td>        <td>2021-09-06 20:09</td>       <td>BIC:</td>        <td>28.4997</td>\n",
       "</tr>\n",
       "<tr>\n",
       "   <td>No. Observations:</td>         <td>20</td>         <td>Log-Likelihood:</td>  <td>-12.752</td>\n",
       "</tr>\n",
       "<tr>\n",
       "       <td>Df Model:</td>              <td>0</td>            <td>LL-Null:</td>      <td>-13.460</td>\n",
       "</tr>\n",
       "<tr>\n",
       "     <td>Df Residuals:</td>           <td>19</td>          <td>LLR p-value:</td>      <td>nan</td>  \n",
       "</tr>\n",
       "<tr>\n",
       "      <td>Converged:</td>           <td>1.0000</td>           <td>Scale:</td>       <td>1.0000</td> \n",
       "</tr>\n",
       "<tr>\n",
       "    <td>No. Iterations:</td>        <td>4.0000</td>              <td></td>             <td></td>    \n",
       "</tr>\n",
       "</table>\n",
       "<table class=\"simpletable\">\n",
       "<tr>\n",
       "   <td></td>    <th>Coef.</th> <th>Std.Err.</th>    <th>z</th>    <th>P>|z|</th> <th>[0.025</th>  <th>0.975]</th>\n",
       "</tr>\n",
       "<tr>\n",
       "  <th>Age</th> <td>0.0159</td>  <td>0.0111</td>  <td>1.4386</td> <td>0.1503</td> <td>-0.0058</td> <td>0.0376</td>\n",
       "</tr>\n",
       "</table>"
      ],
      "text/plain": [
       "<class 'statsmodels.iolib.summary2.Summary'>\n",
       "\"\"\"\n",
       "                        Results: Logit\n",
       "==============================================================\n",
       "Model:              Logit            Pseudo R-squared: 0.053  \n",
       "Dependent Variable: Subscription     AIC:              27.5040\n",
       "Date:               2021-09-06 20:09 BIC:              28.4997\n",
       "No. Observations:   20               Log-Likelihood:   -12.752\n",
       "Df Model:           0                LL-Null:          -13.460\n",
       "Df Residuals:       19               LLR p-value:      nan    \n",
       "Converged:          1.0000           Scale:            1.0000 \n",
       "No. Iterations:     4.0000                                    \n",
       "----------------------------------------------------------------\n",
       "          Coef.    Std.Err.     z      P>|z|     [0.025   0.975]\n",
       "----------------------------------------------------------------\n",
       "Age       0.0159     0.0111   1.4386   0.1503   -0.0058   0.0376\n",
       "==============================================================\n",
       "\n",
       "\"\"\""
      ]
     },
     "execution_count": 7,
     "metadata": {},
     "output_type": "execute_result"
    }
   ],
   "source": [
    "result.summary2() # we Use summary2 for logistic function bcz summary is used for linear function."
   ]
  },
  {
   "cell_type": "markdown",
   "metadata": {},
   "source": [
    "## Logistic Regression Case study"
   ]
  },
  {
   "cell_type": "code",
   "execution_count": 8,
   "metadata": {
    "collapsed": true
   },
   "outputs": [],
   "source": [
    "Insurance_data=pd.read_csv('carInsurance_train.csv')\n",
    "Insurance_test=pd.read_csv('carInsurance_test.csv')"
   ]
  },
  {
   "cell_type": "code",
   "execution_count": 9,
   "metadata": {
    "collapsed": true
   },
   "outputs": [
    {
     "name": "stdout",
     "output_type": "stream",
     "text": [
      "<class 'pandas.core.frame.DataFrame'>\n",
      "RangeIndex: 4000 entries, 0 to 3999\n",
      "Data columns (total 19 columns):\n",
      " #   Column            Non-Null Count  Dtype \n",
      "---  ------            --------------  ----- \n",
      " 0   Id                4000 non-null   int64 \n",
      " 1   Age               4000 non-null   int64 \n",
      " 2   Job               3981 non-null   object\n",
      " 3   Marital           4000 non-null   object\n",
      " 4   Education         3831 non-null   object\n",
      " 5   Default           4000 non-null   int64 \n",
      " 6   Balance           4000 non-null   int64 \n",
      " 7   HHInsurance       4000 non-null   int64 \n",
      " 8   CarLoan           4000 non-null   int64 \n",
      " 9   Communication     3098 non-null   object\n",
      " 10  LastContactDay    4000 non-null   int64 \n",
      " 11  LastContactMonth  4000 non-null   object\n",
      " 12  NoOfContacts      4000 non-null   int64 \n",
      " 13  DaysPassed        4000 non-null   int64 \n",
      " 14  PrevAttempts      4000 non-null   int64 \n",
      " 15  Outcome           958 non-null    object\n",
      " 16  CallStart         4000 non-null   object\n",
      " 17  CallEnd           4000 non-null   object\n",
      " 18  CarInsurance      4000 non-null   int64 \n",
      "dtypes: int64(11), object(8)\n",
      "memory usage: 468.8+ KB\n"
     ]
    }
   ],
   "source": [
    "Insurance_data.info()"
   ]
  },
  {
   "cell_type": "code",
   "execution_count": 10,
   "metadata": {
    "collapsed": true
   },
   "outputs": [
    {
     "data": {
      "text/html": [
       "<div>\n",
       "<style scoped>\n",
       "    .dataframe tbody tr th:only-of-type {\n",
       "        vertical-align: middle;\n",
       "    }\n",
       "\n",
       "    .dataframe tbody tr th {\n",
       "        vertical-align: top;\n",
       "    }\n",
       "\n",
       "    .dataframe thead th {\n",
       "        text-align: right;\n",
       "    }\n",
       "</style>\n",
       "<table border=\"1\" class=\"dataframe\">\n",
       "  <thead>\n",
       "    <tr style=\"text-align: right;\">\n",
       "      <th></th>\n",
       "      <th>Id</th>\n",
       "      <th>Age</th>\n",
       "      <th>Job</th>\n",
       "      <th>Marital</th>\n",
       "      <th>Education</th>\n",
       "      <th>Default</th>\n",
       "      <th>Balance</th>\n",
       "      <th>HHInsurance</th>\n",
       "      <th>CarLoan</th>\n",
       "      <th>Communication</th>\n",
       "      <th>LastContactDay</th>\n",
       "      <th>LastContactMonth</th>\n",
       "      <th>NoOfContacts</th>\n",
       "      <th>DaysPassed</th>\n",
       "      <th>PrevAttempts</th>\n",
       "      <th>Outcome</th>\n",
       "      <th>CallStart</th>\n",
       "      <th>CallEnd</th>\n",
       "      <th>CarInsurance</th>\n",
       "    </tr>\n",
       "  </thead>\n",
       "  <tbody>\n",
       "    <tr>\n",
       "      <th>0</th>\n",
       "      <td>1</td>\n",
       "      <td>32</td>\n",
       "      <td>management</td>\n",
       "      <td>single</td>\n",
       "      <td>tertiary</td>\n",
       "      <td>0</td>\n",
       "      <td>1218</td>\n",
       "      <td>1</td>\n",
       "      <td>0</td>\n",
       "      <td>telephone</td>\n",
       "      <td>28</td>\n",
       "      <td>jan</td>\n",
       "      <td>2</td>\n",
       "      <td>-1</td>\n",
       "      <td>0</td>\n",
       "      <td>NaN</td>\n",
       "      <td>13:45:20</td>\n",
       "      <td>13:46:30</td>\n",
       "      <td>0</td>\n",
       "    </tr>\n",
       "    <tr>\n",
       "      <th>1</th>\n",
       "      <td>2</td>\n",
       "      <td>32</td>\n",
       "      <td>blue-collar</td>\n",
       "      <td>married</td>\n",
       "      <td>primary</td>\n",
       "      <td>0</td>\n",
       "      <td>1156</td>\n",
       "      <td>1</td>\n",
       "      <td>0</td>\n",
       "      <td>NaN</td>\n",
       "      <td>26</td>\n",
       "      <td>may</td>\n",
       "      <td>5</td>\n",
       "      <td>-1</td>\n",
       "      <td>0</td>\n",
       "      <td>NaN</td>\n",
       "      <td>14:49:03</td>\n",
       "      <td>14:52:08</td>\n",
       "      <td>0</td>\n",
       "    </tr>\n",
       "    <tr>\n",
       "      <th>2</th>\n",
       "      <td>3</td>\n",
       "      <td>29</td>\n",
       "      <td>management</td>\n",
       "      <td>single</td>\n",
       "      <td>tertiary</td>\n",
       "      <td>0</td>\n",
       "      <td>637</td>\n",
       "      <td>1</td>\n",
       "      <td>0</td>\n",
       "      <td>cellular</td>\n",
       "      <td>3</td>\n",
       "      <td>jun</td>\n",
       "      <td>1</td>\n",
       "      <td>119</td>\n",
       "      <td>1</td>\n",
       "      <td>failure</td>\n",
       "      <td>16:30:24</td>\n",
       "      <td>16:36:04</td>\n",
       "      <td>1</td>\n",
       "    </tr>\n",
       "    <tr>\n",
       "      <th>3</th>\n",
       "      <td>4</td>\n",
       "      <td>25</td>\n",
       "      <td>student</td>\n",
       "      <td>single</td>\n",
       "      <td>primary</td>\n",
       "      <td>0</td>\n",
       "      <td>373</td>\n",
       "      <td>1</td>\n",
       "      <td>0</td>\n",
       "      <td>cellular</td>\n",
       "      <td>11</td>\n",
       "      <td>may</td>\n",
       "      <td>2</td>\n",
       "      <td>-1</td>\n",
       "      <td>0</td>\n",
       "      <td>NaN</td>\n",
       "      <td>12:06:43</td>\n",
       "      <td>12:20:22</td>\n",
       "      <td>1</td>\n",
       "    </tr>\n",
       "    <tr>\n",
       "      <th>4</th>\n",
       "      <td>5</td>\n",
       "      <td>30</td>\n",
       "      <td>management</td>\n",
       "      <td>married</td>\n",
       "      <td>tertiary</td>\n",
       "      <td>0</td>\n",
       "      <td>2694</td>\n",
       "      <td>0</td>\n",
       "      <td>0</td>\n",
       "      <td>cellular</td>\n",
       "      <td>3</td>\n",
       "      <td>jun</td>\n",
       "      <td>1</td>\n",
       "      <td>-1</td>\n",
       "      <td>0</td>\n",
       "      <td>NaN</td>\n",
       "      <td>14:35:44</td>\n",
       "      <td>14:38:56</td>\n",
       "      <td>0</td>\n",
       "    </tr>\n",
       "  </tbody>\n",
       "</table>\n",
       "</div>"
      ],
      "text/plain": [
       "   Id  Age          Job  Marital Education  Default  Balance  HHInsurance  \\\n",
       "0   1   32   management   single  tertiary        0     1218            1   \n",
       "1   2   32  blue-collar  married   primary        0     1156            1   \n",
       "2   3   29   management   single  tertiary        0      637            1   \n",
       "3   4   25      student   single   primary        0      373            1   \n",
       "4   5   30   management  married  tertiary        0     2694            0   \n",
       "\n",
       "   CarLoan Communication  LastContactDay LastContactMonth  NoOfContacts  \\\n",
       "0        0     telephone              28              jan             2   \n",
       "1        0           NaN              26              may             5   \n",
       "2        0      cellular               3              jun             1   \n",
       "3        0      cellular              11              may             2   \n",
       "4        0      cellular               3              jun             1   \n",
       "\n",
       "   DaysPassed  PrevAttempts  Outcome CallStart   CallEnd  CarInsurance  \n",
       "0          -1             0      NaN  13:45:20  13:46:30             0  \n",
       "1          -1             0      NaN  14:49:03  14:52:08             0  \n",
       "2         119             1  failure  16:30:24  16:36:04             1  \n",
       "3          -1             0      NaN  12:06:43  12:20:22             1  \n",
       "4          -1             0      NaN  14:35:44  14:38:56             0  "
      ]
     },
     "execution_count": 10,
     "metadata": {},
     "output_type": "execute_result"
    }
   ],
   "source": [
    "Insurance_data.head()"
   ]
  },
  {
   "cell_type": "code",
   "execution_count": 11,
   "metadata": {
    "collapsed": true
   },
   "outputs": [
    {
     "name": "stdout",
     "output_type": "stream",
     "text": [
      "Shape of training data (4000, 19)\n",
      "Shape of test data (1000, 19)\n"
     ]
    }
   ],
   "source": [
    "print('Shape of training data',Insurance_data.shape)\n",
    "print('Shape of test data', Insurance_test.shape)"
   ]
  },
  {
   "cell_type": "code",
   "execution_count": 12,
   "metadata": {
    "collapsed": true
   },
   "outputs": [
    {
     "data": {
      "text/plain": [
       "Id                     0\n",
       "Age                    0\n",
       "Job                   19\n",
       "Marital                0\n",
       "Education            169\n",
       "Default                0\n",
       "Balance                0\n",
       "HHInsurance            0\n",
       "CarLoan                0\n",
       "Communication        902\n",
       "LastContactDay         0\n",
       "LastContactMonth       0\n",
       "NoOfContacts           0\n",
       "DaysPassed             0\n",
       "PrevAttempts           0\n",
       "Outcome             3042\n",
       "CallStart              0\n",
       "CallEnd                0\n",
       "CarInsurance           0\n",
       "dtype: int64"
      ]
     },
     "execution_count": 12,
     "metadata": {},
     "output_type": "execute_result"
    }
   ],
   "source": [
    "Insurance_data.isna().sum() # Finding the missing Values in number"
   ]
  },
  {
   "cell_type": "code",
   "execution_count": 13,
   "metadata": {
    "collapsed": true
   },
   "outputs": [
    {
     "data": {
      "text/plain": [
       "Id                  False\n",
       "Age                 False\n",
       "Job                  True\n",
       "Marital             False\n",
       "Education            True\n",
       "Default             False\n",
       "Balance             False\n",
       "HHInsurance         False\n",
       "CarLoan             False\n",
       "Communication        True\n",
       "LastContactDay      False\n",
       "LastContactMonth    False\n",
       "NoOfContacts        False\n",
       "DaysPassed          False\n",
       "PrevAttempts        False\n",
       "Outcome              True\n",
       "CallStart           False\n",
       "CallEnd             False\n",
       "CarInsurance        False\n",
       "dtype: bool"
      ]
     },
     "execution_count": 13,
     "metadata": {},
     "output_type": "execute_result"
    }
   ],
   "source": [
    "Insurance_data.isnull().any() ## Finding the missing Values in boolean"
   ]
  },
  {
   "cell_type": "code",
   "execution_count": 14,
   "metadata": {
    "collapsed": true
   },
   "outputs": [
    {
     "data": {
      "text/html": [
       "<div>\n",
       "<style scoped>\n",
       "    .dataframe tbody tr th:only-of-type {\n",
       "        vertical-align: middle;\n",
       "    }\n",
       "\n",
       "    .dataframe tbody tr th {\n",
       "        vertical-align: top;\n",
       "    }\n",
       "\n",
       "    .dataframe thead th {\n",
       "        text-align: right;\n",
       "    }\n",
       "</style>\n",
       "<table border=\"1\" class=\"dataframe\">\n",
       "  <thead>\n",
       "    <tr style=\"text-align: right;\">\n",
       "      <th></th>\n",
       "      <th>Id</th>\n",
       "      <th>Age</th>\n",
       "      <th>Default</th>\n",
       "      <th>Balance</th>\n",
       "      <th>HHInsurance</th>\n",
       "      <th>CarLoan</th>\n",
       "      <th>LastContactDay</th>\n",
       "      <th>NoOfContacts</th>\n",
       "      <th>DaysPassed</th>\n",
       "      <th>PrevAttempts</th>\n",
       "      <th>CarInsurance</th>\n",
       "    </tr>\n",
       "  </thead>\n",
       "  <tbody>\n",
       "    <tr>\n",
       "      <th>count</th>\n",
       "      <td>4000.000000</td>\n",
       "      <td>4000.000000</td>\n",
       "      <td>4000.000000</td>\n",
       "      <td>4000.000000</td>\n",
       "      <td>4000.00000</td>\n",
       "      <td>4000.000000</td>\n",
       "      <td>4000.000000</td>\n",
       "      <td>4000.000000</td>\n",
       "      <td>4000.000000</td>\n",
       "      <td>4000.000000</td>\n",
       "      <td>4000.000000</td>\n",
       "    </tr>\n",
       "    <tr>\n",
       "      <th>mean</th>\n",
       "      <td>2000.500000</td>\n",
       "      <td>41.214750</td>\n",
       "      <td>0.014500</td>\n",
       "      <td>1532.937250</td>\n",
       "      <td>0.49275</td>\n",
       "      <td>0.133000</td>\n",
       "      <td>15.721250</td>\n",
       "      <td>2.607250</td>\n",
       "      <td>48.706500</td>\n",
       "      <td>0.717500</td>\n",
       "      <td>0.401000</td>\n",
       "    </tr>\n",
       "    <tr>\n",
       "      <th>std</th>\n",
       "      <td>1154.844867</td>\n",
       "      <td>11.550194</td>\n",
       "      <td>0.119555</td>\n",
       "      <td>3511.452489</td>\n",
       "      <td>0.50001</td>\n",
       "      <td>0.339617</td>\n",
       "      <td>8.425307</td>\n",
       "      <td>3.064204</td>\n",
       "      <td>106.685385</td>\n",
       "      <td>2.078647</td>\n",
       "      <td>0.490162</td>\n",
       "    </tr>\n",
       "    <tr>\n",
       "      <th>min</th>\n",
       "      <td>1.000000</td>\n",
       "      <td>18.000000</td>\n",
       "      <td>0.000000</td>\n",
       "      <td>-3058.000000</td>\n",
       "      <td>0.00000</td>\n",
       "      <td>0.000000</td>\n",
       "      <td>1.000000</td>\n",
       "      <td>1.000000</td>\n",
       "      <td>-1.000000</td>\n",
       "      <td>0.000000</td>\n",
       "      <td>0.000000</td>\n",
       "    </tr>\n",
       "    <tr>\n",
       "      <th>25%</th>\n",
       "      <td>1000.750000</td>\n",
       "      <td>32.000000</td>\n",
       "      <td>0.000000</td>\n",
       "      <td>111.000000</td>\n",
       "      <td>0.00000</td>\n",
       "      <td>0.000000</td>\n",
       "      <td>8.000000</td>\n",
       "      <td>1.000000</td>\n",
       "      <td>-1.000000</td>\n",
       "      <td>0.000000</td>\n",
       "      <td>0.000000</td>\n",
       "    </tr>\n",
       "    <tr>\n",
       "      <th>50%</th>\n",
       "      <td>2000.500000</td>\n",
       "      <td>39.000000</td>\n",
       "      <td>0.000000</td>\n",
       "      <td>551.500000</td>\n",
       "      <td>0.00000</td>\n",
       "      <td>0.000000</td>\n",
       "      <td>16.000000</td>\n",
       "      <td>2.000000</td>\n",
       "      <td>-1.000000</td>\n",
       "      <td>0.000000</td>\n",
       "      <td>0.000000</td>\n",
       "    </tr>\n",
       "    <tr>\n",
       "      <th>75%</th>\n",
       "      <td>3000.250000</td>\n",
       "      <td>49.000000</td>\n",
       "      <td>0.000000</td>\n",
       "      <td>1619.000000</td>\n",
       "      <td>1.00000</td>\n",
       "      <td>0.000000</td>\n",
       "      <td>22.000000</td>\n",
       "      <td>3.000000</td>\n",
       "      <td>-1.000000</td>\n",
       "      <td>0.000000</td>\n",
       "      <td>1.000000</td>\n",
       "    </tr>\n",
       "    <tr>\n",
       "      <th>max</th>\n",
       "      <td>4000.000000</td>\n",
       "      <td>95.000000</td>\n",
       "      <td>1.000000</td>\n",
       "      <td>98417.000000</td>\n",
       "      <td>1.00000</td>\n",
       "      <td>1.000000</td>\n",
       "      <td>31.000000</td>\n",
       "      <td>43.000000</td>\n",
       "      <td>854.000000</td>\n",
       "      <td>58.000000</td>\n",
       "      <td>1.000000</td>\n",
       "    </tr>\n",
       "  </tbody>\n",
       "</table>\n",
       "</div>"
      ],
      "text/plain": [
       "                Id          Age      Default       Balance  HHInsurance  \\\n",
       "count  4000.000000  4000.000000  4000.000000   4000.000000   4000.00000   \n",
       "mean   2000.500000    41.214750     0.014500   1532.937250      0.49275   \n",
       "std    1154.844867    11.550194     0.119555   3511.452489      0.50001   \n",
       "min       1.000000    18.000000     0.000000  -3058.000000      0.00000   \n",
       "25%    1000.750000    32.000000     0.000000    111.000000      0.00000   \n",
       "50%    2000.500000    39.000000     0.000000    551.500000      0.00000   \n",
       "75%    3000.250000    49.000000     0.000000   1619.000000      1.00000   \n",
       "max    4000.000000    95.000000     1.000000  98417.000000      1.00000   \n",
       "\n",
       "           CarLoan  LastContactDay  NoOfContacts   DaysPassed  PrevAttempts  \\\n",
       "count  4000.000000     4000.000000   4000.000000  4000.000000   4000.000000   \n",
       "mean      0.133000       15.721250      2.607250    48.706500      0.717500   \n",
       "std       0.339617        8.425307      3.064204   106.685385      2.078647   \n",
       "min       0.000000        1.000000      1.000000    -1.000000      0.000000   \n",
       "25%       0.000000        8.000000      1.000000    -1.000000      0.000000   \n",
       "50%       0.000000       16.000000      2.000000    -1.000000      0.000000   \n",
       "75%       0.000000       22.000000      3.000000    -1.000000      0.000000   \n",
       "max       1.000000       31.000000     43.000000   854.000000     58.000000   \n",
       "\n",
       "       CarInsurance  \n",
       "count   4000.000000  \n",
       "mean       0.401000  \n",
       "std        0.490162  \n",
       "min        0.000000  \n",
       "25%        0.000000  \n",
       "50%        0.000000  \n",
       "75%        1.000000  \n",
       "max        1.000000  "
      ]
     },
     "execution_count": 14,
     "metadata": {},
     "output_type": "execute_result"
    }
   ],
   "source": [
    "Insurance_data.describe()"
   ]
  },
  {
   "cell_type": "code",
   "execution_count": 15,
   "metadata": {
    "collapsed": true
   },
   "outputs": [
    {
     "data": {
      "text/html": [
       "<div>\n",
       "<style scoped>\n",
       "    .dataframe tbody tr th:only-of-type {\n",
       "        vertical-align: middle;\n",
       "    }\n",
       "\n",
       "    .dataframe tbody tr th {\n",
       "        vertical-align: top;\n",
       "    }\n",
       "\n",
       "    .dataframe thead th {\n",
       "        text-align: right;\n",
       "    }\n",
       "</style>\n",
       "<table border=\"1\" class=\"dataframe\">\n",
       "  <thead>\n",
       "    <tr style=\"text-align: right;\">\n",
       "      <th></th>\n",
       "      <th>Job</th>\n",
       "      <th>Marital</th>\n",
       "      <th>Education</th>\n",
       "      <th>Communication</th>\n",
       "      <th>LastContactMonth</th>\n",
       "      <th>Outcome</th>\n",
       "      <th>CallStart</th>\n",
       "      <th>CallEnd</th>\n",
       "    </tr>\n",
       "  </thead>\n",
       "  <tbody>\n",
       "    <tr>\n",
       "      <th>count</th>\n",
       "      <td>3981</td>\n",
       "      <td>4000</td>\n",
       "      <td>3831</td>\n",
       "      <td>3098</td>\n",
       "      <td>4000</td>\n",
       "      <td>958</td>\n",
       "      <td>4000</td>\n",
       "      <td>4000</td>\n",
       "    </tr>\n",
       "    <tr>\n",
       "      <th>unique</th>\n",
       "      <td>11</td>\n",
       "      <td>3</td>\n",
       "      <td>3</td>\n",
       "      <td>2</td>\n",
       "      <td>12</td>\n",
       "      <td>3</td>\n",
       "      <td>3777</td>\n",
       "      <td>3764</td>\n",
       "    </tr>\n",
       "    <tr>\n",
       "      <th>top</th>\n",
       "      <td>management</td>\n",
       "      <td>married</td>\n",
       "      <td>secondary</td>\n",
       "      <td>cellular</td>\n",
       "      <td>may</td>\n",
       "      <td>failure</td>\n",
       "      <td>17:11:04</td>\n",
       "      <td>10:22:30</td>\n",
       "    </tr>\n",
       "    <tr>\n",
       "      <th>freq</th>\n",
       "      <td>893</td>\n",
       "      <td>2304</td>\n",
       "      <td>1988</td>\n",
       "      <td>2831</td>\n",
       "      <td>1049</td>\n",
       "      <td>437</td>\n",
       "      <td>3</td>\n",
       "      <td>3</td>\n",
       "    </tr>\n",
       "  </tbody>\n",
       "</table>\n",
       "</div>"
      ],
      "text/plain": [
       "               Job  Marital  Education Communication LastContactMonth  \\\n",
       "count         3981     4000       3831          3098             4000   \n",
       "unique          11        3          3             2               12   \n",
       "top     management  married  secondary      cellular              may   \n",
       "freq           893     2304       1988          2831             1049   \n",
       "\n",
       "        Outcome CallStart   CallEnd  \n",
       "count       958      4000      4000  \n",
       "unique        3      3777      3764  \n",
       "top     failure  17:11:04  10:22:30  \n",
       "freq        437         3         3  "
      ]
     },
     "execution_count": 15,
     "metadata": {},
     "output_type": "execute_result"
    }
   ],
   "source": [
    "Insurance_data.describe(include='object')"
   ]
  },
  {
   "cell_type": "code",
   "execution_count": 16,
   "metadata": {
    "collapsed": true
   },
   "outputs": [
    {
     "data": {
      "text/plain": [
       "Index(['Job', 'Marital', 'Education', 'Communication', 'LastContactMonth',\n",
       "       'Outcome', 'CallStart', 'CallEnd'],\n",
       "      dtype='object')"
      ]
     },
     "execution_count": 16,
     "metadata": {},
     "output_type": "execute_result"
    }
   ],
   "source": [
    "Insurance_data.select_dtypes(include='object').columns # getting all the object columns"
   ]
  },
  {
   "cell_type": "markdown",
   "metadata": {},
   "source": [
    "## Vizualizing Data"
   ]
  },
  {
   "cell_type": "code",
   "execution_count": 17,
   "metadata": {
    "collapsed": true
   },
   "outputs": [
    {
     "data": {
      "text/plain": [
       "Index(['Id', 'Age', 'Job', 'Marital', 'Education', 'Default', 'Balance',\n",
       "       'HHInsurance', 'CarLoan', 'Communication', 'LastContactDay',\n",
       "       'LastContactMonth', 'NoOfContacts', 'DaysPassed', 'PrevAttempts',\n",
       "       'Outcome', 'CallStart', 'CallEnd', 'CarInsurance'],\n",
       "      dtype='object')"
      ]
     },
     "execution_count": 17,
     "metadata": {},
     "output_type": "execute_result"
    }
   ],
   "source": [
    "Insurance_data.columns"
   ]
  },
  {
   "cell_type": "code",
   "execution_count": 18,
   "metadata": {
    "collapsed": true
   },
   "outputs": [],
   "source": [
    "impt_feats=['Age', 'Balance',\n",
    "       'HHInsurance', 'CarLoan', 'NoOfContacts', 'DaysPassed', 'PrevAttempts', 'CarInsurance']"
   ]
  },
  {
   "cell_type": "code",
   "execution_count": 19,
   "metadata": {
    "collapsed": true
   },
   "outputs": [
    {
     "name": "stderr",
     "output_type": "stream",
     "text": [
      "C:\\Users\\sasai\\anaconda3\\lib\\site-packages\\seaborn\\axisgrid.py:2076: UserWarning: The `size` parameter has been renamed to `height`; please update your code.\n",
      "  warnings.warn(msg, UserWarning)\n"
     ]
    },
    {
     "data": {
      "text/plain": [
       "<seaborn.axisgrid.PairGrid at 0x166c28f8>"
      ]
     },
     "execution_count": 19,
     "metadata": {},
     "output_type": "execute_result"
    },
    {
     "data": {
      "image/png": "[encoded data removed]",
      "text/plain": [
       "<Figure size 1334.25x1260 with 56 Axes>"
      ]
     },
     "metadata": {
      "needs_background": "light"
     },
     "output_type": "display_data"
    }
   ],
   "source": [
    "sns.pairplot(Insurance_data[impt_feats],hue='CarInsurance',palette='viridis',size=2.5)"
   ]
  },
  {
   "cell_type": "markdown",
   "metadata": {},
   "source": [
    "<h3>Note:</h3>In the above graph we can clearly see in the Age vs Age distribution plot that above 50 age  people is not buying the CarInsurance  "
   ]
  },
  {
   "cell_type": "code",
   "execution_count": 20,
   "metadata": {
    "collapsed": true
   },
   "outputs": [
    {
     "name": "stdout",
     "output_type": "stream",
     "text": [
      "<class 'pandas.core.frame.DataFrame'>\n",
      "RangeIndex: 4000 entries, 0 to 3999\n",
      "Data columns (total 19 columns):\n",
      " #   Column            Non-Null Count  Dtype \n",
      "---  ------            --------------  ----- \n",
      " 0   Id                4000 non-null   int64 \n",
      " 1   Age               4000 non-null   int64 \n",
      " 2   Job               3981 non-null   object\n",
      " 3   Marital           4000 non-null   object\n",
      " 4   Education         3831 non-null   object\n",
      " 5   Default           4000 non-null   int64 \n",
      " 6   Balance           4000 non-null   int64 \n",
      " 7   HHInsurance       4000 non-null   int64 \n",
      " 8   CarLoan           4000 non-null   int64 \n",
      " 9   Communication     3098 non-null   object\n",
      " 10  LastContactDay    4000 non-null   int64 \n",
      " 11  LastContactMonth  4000 non-null   object\n",
      " 12  NoOfContacts      4000 non-null   int64 \n",
      " 13  DaysPassed        4000 non-null   int64 \n",
      " 14  PrevAttempts      4000 non-null   int64 \n",
      " 15  Outcome           958 non-null    object\n",
      " 16  CallStart         4000 non-null   object\n",
      " 17  CallEnd           4000 non-null   object\n",
      " 18  CarInsurance      4000 non-null   int64 \n",
      "dtypes: int64(11), object(8)\n",
      "memory usage: 468.8+ KB\n"
     ]
    }
   ],
   "source": [
    "Insurance_data.info()"
   ]
  },
  {
   "cell_type": "code",
   "execution_count": 21,
   "metadata": {
    "collapsed": true
   },
   "outputs": [
    {
     "name": "stderr",
     "output_type": "stream",
     "text": [
      "C:\\Users\\sasai\\anaconda3\\lib\\site-packages\\seaborn\\axisgrid.py:337: UserWarning: The `size` parameter has been renamed to `height`; please update your code.\n",
      "  warnings.warn(msg, UserWarning)\n"
     ]
    },
    {
     "data": {
      "text/plain": [
       "<seaborn.axisgrid.FacetGrid at 0x19f32df0>"
      ]
     },
     "execution_count": 21,
     "metadata": {},
     "output_type": "execute_result"
    },
    {
     "data": {
      "image/png": "[encoded data removed]",
      "text/plain": [
       "<Figure size 614.25x180 with 1 Axes>"
      ]
     },
     "metadata": {
      "needs_background": "light"
     },
     "output_type": "display_data"
    }
   ],
   "source": [
    "# Take a Further look at age\n",
    "facet=sns.FacetGrid(Insurance_data,hue='CarInsurance',size=2.5,aspect=3,palette='seismic')\n",
    "facet.map(plt.hist,'Age',bins=30)\n",
    "facet.set(xlim=(0,Insurance_data.Age.max()+10))\n",
    "facet.add_legend()\n",
    "# Do this for balance and other continuous variable"
   ]
  },
  {
   "cell_type": "markdown",
   "metadata": {},
   "source": [
    "<h3>Note:</h3>\n",
    "As can be seen in between age 30 to 60 the proportion of not buying the car-insurance in more as compared to buyers "
   ]
  },
  {
   "cell_type": "code",
   "execution_count": 22,
   "metadata": {
    "collapsed": true
   },
   "outputs": [
    {
     "name": "stderr",
     "output_type": "stream",
     "text": [
      "C:\\Users\\sasai\\anaconda3\\lib\\site-packages\\seaborn\\axisgrid.py:337: UserWarning: The `size` parameter has been renamed to `height`; please update your code.\n",
      "  warnings.warn(msg, UserWarning)\n"
     ]
    },
    {
     "data": {
      "text/plain": [
       "<seaborn.axisgrid.FacetGrid at 0x1b0a1d30>"
      ]
     },
     "execution_count": 22,
     "metadata": {},
     "output_type": "execute_result"
    },
    {
     "data": {
      "image/png": "[encoded data removed]",
      "text/plain": [
       "<Figure size 614.25x180 with 1 Axes>"
      ]
     },
     "metadata": {
      "needs_background": "light"
     },
     "output_type": "display_data"
    }
   ],
   "source": [
    "facet=sns.FacetGrid(Insurance_data,hue='CarInsurance',size=2.5,aspect=3,palette='seismic')\n",
    "facet.map(plt.hist,'Balance',bins=30)\n",
    "facet.set(xlim=(0,Insurance_data.Balance.max()+10))\n",
    "facet.add_legend()"
   ]
  },
  {
   "cell_type": "code",
   "execution_count": 23,
   "metadata": {
    "collapsed": true
   },
   "outputs": [
    {
     "name": "stderr",
     "output_type": "stream",
     "text": [
      "C:\\Users\\sasai\\anaconda3\\lib\\site-packages\\seaborn\\axisgrid.py:337: UserWarning: The `size` parameter has been renamed to `height`; please update your code.\n",
      "  warnings.warn(msg, UserWarning)\n"
     ]
    },
    {
     "data": {
      "text/plain": [
       "<seaborn.axisgrid.FacetGrid at 0x14654d60>"
      ]
     },
     "execution_count": 23,
     "metadata": {},
     "output_type": "execute_result"
    },
    {
     "data": {
      "image/png": "[encoded data removed]",
      "text/plain": [
       "<Figure size 614.25x180 with 1 Axes>"
      ]
     },
     "metadata": {
      "needs_background": "light"
     },
     "output_type": "display_data"
    }
   ],
   "source": [
    "facet=sns.FacetGrid(Insurance_data,hue='CarInsurance',size=2.5,aspect=3,palette='seismic')\n",
    "facet.map(plt.hist,'HHInsurance',bins=30)\n",
    "facet.set(xlim=(0,Insurance_data.HHInsurance.max()+10))\n",
    "facet.add_legend()"
   ]
  },
  {
   "cell_type": "code",
   "execution_count": 24,
   "metadata": {
    "collapsed": true
   },
   "outputs": [
    {
     "name": "stderr",
     "output_type": "stream",
     "text": [
      "C:\\Users\\sasai\\anaconda3\\lib\\site-packages\\seaborn\\axisgrid.py:337: UserWarning: The `size` parameter has been renamed to `height`; please update your code.\n",
      "  warnings.warn(msg, UserWarning)\n"
     ]
    },
    {
     "data": {
      "text/plain": [
       "<seaborn.axisgrid.FacetGrid at 0x1b199f28>"
      ]
     },
     "execution_count": 24,
     "metadata": {},
     "output_type": "execute_result"
    },
    {
     "data": {
      "image/png": "[encoded data removed]",
      "text/plain": [
       "<Figure size 614.25x180 with 1 Axes>"
      ]
     },
     "metadata": {
      "needs_background": "light"
     },
     "output_type": "display_data"
    }
   ],
   "source": [
    "facet=sns.FacetGrid(Insurance_data,hue='CarInsurance',size=2.5,aspect=3,palette='seismic')\n",
    "facet.map(plt.hist,'CarLoan',bins=30)\n",
    "facet.set(xlim=(0,Insurance_data.CarLoan.max()+10))\n",
    "facet.add_legend()"
   ]
  },
  {
   "cell_type": "code",
   "execution_count": 25,
   "metadata": {
    "collapsed": true
   },
   "outputs": [
    {
     "name": "stderr",
     "output_type": "stream",
     "text": [
      "C:\\Users\\sasai\\anaconda3\\lib\\site-packages\\seaborn\\axisgrid.py:337: UserWarning: The `size` parameter has been renamed to `height`; please update your code.\n",
      "  warnings.warn(msg, UserWarning)\n"
     ]
    },
    {
     "data": {
      "text/plain": [
       "<seaborn.axisgrid.FacetGrid at 0x1b1de0e8>"
      ]
     },
     "execution_count": 25,
     "metadata": {},
     "output_type": "execute_result"
    },
    {
     "data": {
      "image/png": "[encoded data removed]",
      "text/plain": [
       "<Figure size 614.25x180 with 1 Axes>"
      ]
     },
     "metadata": {
      "needs_background": "light"
     },
     "output_type": "display_data"
    }
   ],
   "source": [
    "facet=sns.FacetGrid(Insurance_data,hue='CarInsurance',size=2.5,aspect=3,palette='seismic')\n",
    "facet.map(plt.hist,'DaysPassed',bins=30)\n",
    "facet.set(xlim=(0,Insurance_data.DaysPassed.max()+10))\n",
    "facet.add_legend()"
   ]
  },
  {
   "cell_type": "code",
   "execution_count": 26,
   "metadata": {
    "collapsed": true
   },
   "outputs": [
    {
     "name": "stderr",
     "output_type": "stream",
     "text": [
      "C:\\Users\\sasai\\anaconda3\\lib\\site-packages\\seaborn\\axisgrid.py:337: UserWarning: The `size` parameter has been renamed to `height`; please update your code.\n",
      "  warnings.warn(msg, UserWarning)\n"
     ]
    },
    {
     "data": {
      "text/plain": [
       "<seaborn.axisgrid.FacetGrid at 0x1b1de8f8>"
      ]
     },
     "execution_count": 26,
     "metadata": {},
     "output_type": "execute_result"
    },
    {
     "data": {
      "image/png": "[encoded data removed]",
      "text/plain": [
       "<Figure size 614.25x180 with 1 Axes>"
      ]
     },
     "metadata": {
      "needs_background": "light"
     },
     "output_type": "display_data"
    }
   ],
   "source": [
    "facet=sns.FacetGrid(Insurance_data,hue='CarInsurance',size=2.5,aspect=3,palette='seismic')\n",
    "facet.map(plt.hist,'PrevAttempts',bins=30)\n",
    "facet.set(xlim=(0,Insurance_data.PrevAttempts.max()+10))\n",
    "facet.add_legend()"
   ]
  },
  {
   "cell_type": "code",
   "execution_count": 27,
   "metadata": {
    "collapsed": true
   },
   "outputs": [
    {
     "name": "stderr",
     "output_type": "stream",
     "text": [
      "C:\\Users\\sasai\\anaconda3\\lib\\site-packages\\seaborn\\axisgrid.py:337: UserWarning: The `size` parameter has been renamed to `height`; please update your code.\n",
      "  warnings.warn(msg, UserWarning)\n"
     ]
    },
    {
     "data": {
      "text/plain": [
       "<seaborn.axisgrid.FacetGrid at 0x1b346700>"
      ]
     },
     "execution_count": 27,
     "metadata": {},
     "output_type": "execute_result"
    },
    {
     "data": {
      "image/png": "[encoded data removed]",
      "text/plain": [
       "<Figure size 614.25x180 with 1 Axes>"
      ]
     },
     "metadata": {
      "needs_background": "light"
     },
     "output_type": "display_data"
    }
   ],
   "source": [
    "facet=sns.FacetGrid(Insurance_data,hue='CarInsurance',size=2.5,aspect=3,palette='seismic')\n",
    "facet.map(plt.hist,'LastContactDay',bins=30)\n",
    "facet.set(xlim=(0,Insurance_data.LastContactDay.max()+10))\n",
    "facet.add_legend()"
   ]
  },
  {
   "cell_type": "code",
   "execution_count": 28,
   "metadata": {
    "collapsed": true
   },
   "outputs": [
    {
     "name": "stderr",
     "output_type": "stream",
     "text": [
      "C:\\Users\\sasai\\anaconda3\\lib\\site-packages\\seaborn\\axisgrid.py:337: UserWarning: The `size` parameter has been renamed to `height`; please update your code.\n",
      "  warnings.warn(msg, UserWarning)\n"
     ]
    },
    {
     "data": {
      "text/plain": [
       "<seaborn.axisgrid.FacetGrid at 0x1b3bd130>"
      ]
     },
     "execution_count": 28,
     "metadata": {},
     "output_type": "execute_result"
    },
    {
     "data": {
      "image/png": "[encoded data removed]",
      "text/plain": [
       "<Figure size 614.25x180 with 1 Axes>"
      ]
     },
     "metadata": {
      "needs_background": "light"
     },
     "output_type": "display_data"
    }
   ],
   "source": [
    "facet=sns.FacetGrid(Insurance_data,hue='CarInsurance',size=2.5,aspect=3,palette='seismic')\n",
    "facet.map(plt.hist,'Default',bins=30)\n",
    "facet.set(xlim=(0,Insurance_data.Default.max()+10))\n",
    "facet.add_legend()"
   ]
  },
  {
   "cell_type": "code",
   "execution_count": 29,
   "metadata": {
    "collapsed": true
   },
   "outputs": [],
   "source": [
    "#get categorical variables\n",
    "categorical_cols=Insurance_data.select_dtypes(include=['object']).columns"
   ]
  },
  {
   "cell_type": "code",
   "execution_count": 30,
   "metadata": {
    "collapsed": true
   },
   "outputs": [
    {
     "data": {
      "text/plain": [
       "Index(['Job', 'Marital', 'Education', 'Communication', 'LastContactMonth',\n",
       "       'Outcome', 'CallStart', 'CallEnd'],\n",
       "      dtype='object')"
      ]
     },
     "execution_count": 30,
     "metadata": {},
     "output_type": "execute_result"
    }
   ],
   "source": [
    "categorical_cols"
   ]
  },
  {
   "cell_type": "code",
   "execution_count": 31,
   "metadata": {
    "collapsed": true
   },
   "outputs": [],
   "source": [
    "#removing call start and call end variables\n",
    "categorical_col_plot=categorical_cols[(categorical_cols!='CallStart')&(categorical_cols!='CallEnd')]"
   ]
  },
  {
   "cell_type": "code",
   "execution_count": 32,
   "metadata": {
    "collapsed": true
   },
   "outputs": [
    {
     "data": {
      "text/plain": [
       "Index(['Job', 'Marital', 'Education', 'Communication', 'LastContactMonth',\n",
       "       'Outcome'],\n",
       "      dtype='object')"
      ]
     },
     "execution_count": 32,
     "metadata": {},
     "output_type": "execute_result"
    }
   ],
   "source": [
    "categorical_col_plot"
   ]
  },
  {
   "cell_type": "code",
   "execution_count": 33,
   "metadata": {
    "collapsed": true
   },
   "outputs": [
    {
     "name": "stderr",
     "output_type": "stream",
     "text": [
      "C:\\Users\\sasai\\anaconda3\\lib\\site-packages\\seaborn\\_decorators.py:36: FutureWarning: Pass the following variables as keyword args: x, y. From version 0.12, the only valid positional argument will be `data`, and passing other arguments without an explicit keyword will result in an error or misinterpretation.\n",
      "  warnings.warn(\n",
      "C:\\Users\\sasai\\anaconda3\\lib\\site-packages\\seaborn\\_decorators.py:36: FutureWarning: Pass the following variables as keyword args: x, y. From version 0.12, the only valid positional argument will be `data`, and passing other arguments without an explicit keyword will result in an error or misinterpretation.\n",
      "  warnings.warn(\n",
      "C:\\Users\\sasai\\anaconda3\\lib\\site-packages\\seaborn\\_decorators.py:36: FutureWarning: Pass the following variables as keyword args: x, y. From version 0.12, the only valid positional argument will be `data`, and passing other arguments without an explicit keyword will result in an error or misinterpretation.\n",
      "  warnings.warn(\n",
      "C:\\Users\\sasai\\anaconda3\\lib\\site-packages\\seaborn\\_decorators.py:36: FutureWarning: Pass the following variables as keyword args: x, y. From version 0.12, the only valid positional argument will be `data`, and passing other arguments without an explicit keyword will result in an error or misinterpretation.\n",
      "  warnings.warn(\n",
      "C:\\Users\\sasai\\anaconda3\\lib\\site-packages\\seaborn\\_decorators.py:36: FutureWarning: Pass the following variables as keyword args: x, y. From version 0.12, the only valid positional argument will be `data`, and passing other arguments without an explicit keyword will result in an error or misinterpretation.\n",
      "  warnings.warn(\n",
      "C:\\Users\\sasai\\anaconda3\\lib\\site-packages\\seaborn\\_decorators.py:36: FutureWarning: Pass the following variables as keyword args: x, y. From version 0.12, the only valid positional argument will be `data`, and passing other arguments without an explicit keyword will result in an error or misinterpretation.\n",
      "  warnings.warn(\n"
     ]
    },
    {
     "data": {
      "image/png": "[encoded data removed]",
      "text/plain": [
       "<Figure size 720x432 with 1 Axes>"
      ]
     },
     "metadata": {
      "needs_background": "light"
     },
     "output_type": "display_data"
    },
    {
     "data": {
      "image/png": "[encoded data removed]",
      "text/plain": [
       "<Figure size 720x432 with 1 Axes>"
      ]
     },
     "metadata": {
      "needs_background": "light"
     },
     "output_type": "display_data"
    },
    {
     "data": {
      "image/png": "[encoded data removed]",
      "text/plain": [
       "<Figure size 720x432 with 1 Axes>"
      ]
     },
     "metadata": {
      "needs_background": "light"
     },
     "output_type": "display_data"
    },
    {
     "data": {
      "image/png": "[encoded data removed]",
      "text/plain": [
       "<Figure size 720x432 with 1 Axes>"
      ]
     },
     "metadata": {
      "needs_background": "light"
     },
     "output_type": "display_data"
    },
    {
     "data": {
      "image/png": "[encoded data removed]",
      "text/plain": [
       "<Figure size 720x432 with 1 Axes>"
      ]
     },
     "metadata": {
      "needs_background": "light"
     },
     "output_type": "display_data"
    },
    {
     "data": {
      "image/png": "[encoded data removed]",
      "text/plain": [
       "<Figure size 720x432 with 1 Axes>"
      ]
     },
     "metadata": {
      "needs_background": "light"
     },
     "output_type": "display_data"
    }
   ],
   "source": [
    "#run a for loop to build plot for all categorical variables\n",
    "for feature in categorical_col_plot:\n",
    "    plt.figure(figsize=(10,6))\n",
    "    sns.barplot(feature,'CarInsurance',data=Insurance_data,palette='Set2')"
   ]
  },
  {
   "cell_type": "code",
   "execution_count": 34,
   "metadata": {
    "collapsed": true
   },
   "outputs": [
    {
     "data": {
      "text/html": [
       "<div>\n",
       "<style scoped>\n",
       "    .dataframe tbody tr th:only-of-type {\n",
       "        vertical-align: middle;\n",
       "    }\n",
       "\n",
       "    .dataframe tbody tr th {\n",
       "        vertical-align: top;\n",
       "    }\n",
       "\n",
       "    .dataframe thead th {\n",
       "        text-align: right;\n",
       "    }\n",
       "</style>\n",
       "<table border=\"1\" class=\"dataframe\">\n",
       "  <thead>\n",
       "    <tr style=\"text-align: right;\">\n",
       "      <th></th>\n",
       "      <th>Id</th>\n",
       "      <th>Age</th>\n",
       "      <th>Job</th>\n",
       "      <th>Marital</th>\n",
       "      <th>Education</th>\n",
       "      <th>Default</th>\n",
       "      <th>Balance</th>\n",
       "      <th>HHInsurance</th>\n",
       "      <th>CarLoan</th>\n",
       "      <th>Communication</th>\n",
       "      <th>LastContactDay</th>\n",
       "      <th>LastContactMonth</th>\n",
       "      <th>NoOfContacts</th>\n",
       "      <th>DaysPassed</th>\n",
       "      <th>PrevAttempts</th>\n",
       "      <th>Outcome</th>\n",
       "      <th>CallStart</th>\n",
       "      <th>CallEnd</th>\n",
       "      <th>CarInsurance</th>\n",
       "    </tr>\n",
       "  </thead>\n",
       "  <tbody>\n",
       "    <tr>\n",
       "      <th>1742</th>\n",
       "      <td>1743</td>\n",
       "      <td>59</td>\n",
       "      <td>management</td>\n",
       "      <td>married</td>\n",
       "      <td>tertiary</td>\n",
       "      <td>0</td>\n",
       "      <td>98417</td>\n",
       "      <td>0</td>\n",
       "      <td>0</td>\n",
       "      <td>telephone</td>\n",
       "      <td>20</td>\n",
       "      <td>nov</td>\n",
       "      <td>5</td>\n",
       "      <td>-1</td>\n",
       "      <td>0</td>\n",
       "      <td>NaN</td>\n",
       "      <td>10:51:42</td>\n",
       "      <td>10:54:07</td>\n",
       "      <td>0</td>\n",
       "    </tr>\n",
       "  </tbody>\n",
       "</table>\n",
       "</div>"
      ],
      "text/plain": [
       "        Id  Age         Job  Marital Education  Default  Balance  HHInsurance  \\\n",
       "1742  1743   59  management  married  tertiary        0    98417            0   \n",
       "\n",
       "      CarLoan Communication  LastContactDay LastContactMonth  NoOfContacts  \\\n",
       "1742        0     telephone              20              nov             5   \n",
       "\n",
       "      DaysPassed  PrevAttempts Outcome CallStart   CallEnd  CarInsurance  \n",
       "1742          -1             0     NaN  10:51:42  10:54:07             0  "
      ]
     },
     "execution_count": 34,
     "metadata": {},
     "output_type": "execute_result"
    }
   ],
   "source": [
    "Insurance_data[Insurance_data.Balance>80000]"
   ]
  },
  {
   "cell_type": "code",
   "execution_count": 35,
   "metadata": {
    "collapsed": true
   },
   "outputs": [],
   "source": [
    "Insurance_data=Insurance_data.drop(Insurance_data[Insurance_data.index==1742].index)"
   ]
  },
  {
   "cell_type": "code",
   "execution_count": 36,
   "metadata": {
    "collapsed": true
   },
   "outputs": [
    {
     "data": {
      "text/html": [
       "<div>\n",
       "<style scoped>\n",
       "    .dataframe tbody tr th:only-of-type {\n",
       "        vertical-align: middle;\n",
       "    }\n",
       "\n",
       "    .dataframe tbody tr th {\n",
       "        vertical-align: top;\n",
       "    }\n",
       "\n",
       "    .dataframe thead th {\n",
       "        text-align: right;\n",
       "    }\n",
       "</style>\n",
       "<table border=\"1\" class=\"dataframe\">\n",
       "  <thead>\n",
       "    <tr style=\"text-align: right;\">\n",
       "      <th></th>\n",
       "      <th>Id</th>\n",
       "      <th>Age</th>\n",
       "      <th>Job</th>\n",
       "      <th>Marital</th>\n",
       "      <th>Education</th>\n",
       "      <th>Default</th>\n",
       "      <th>Balance</th>\n",
       "      <th>HHInsurance</th>\n",
       "      <th>CarLoan</th>\n",
       "      <th>Communication</th>\n",
       "      <th>LastContactDay</th>\n",
       "      <th>LastContactMonth</th>\n",
       "      <th>NoOfContacts</th>\n",
       "      <th>DaysPassed</th>\n",
       "      <th>PrevAttempts</th>\n",
       "      <th>Outcome</th>\n",
       "      <th>CallStart</th>\n",
       "      <th>CallEnd</th>\n",
       "      <th>CarInsurance</th>\n",
       "    </tr>\n",
       "  </thead>\n",
       "  <tbody>\n",
       "  </tbody>\n",
       "</table>\n",
       "</div>"
      ],
      "text/plain": [
       "Empty DataFrame\n",
       "Columns: [Id, Age, Job, Marital, Education, Default, Balance, HHInsurance, CarLoan, Communication, LastContactDay, LastContactMonth, NoOfContacts, DaysPassed, PrevAttempts, Outcome, CallStart, CallEnd, CarInsurance]\n",
       "Index: []"
      ]
     },
     "execution_count": 36,
     "metadata": {},
     "output_type": "execute_result"
    }
   ],
   "source": [
    "Insurance_data[Insurance_data.Balance>80000] #Outlier removed since no value being printed"
   ]
  },
  {
   "cell_type": "markdown",
   "metadata": {},
   "source": [
    "### Handling Missing data"
   ]
  },
  {
   "cell_type": "code",
   "execution_count": 37,
   "metadata": {
    "collapsed": true
   },
   "outputs": [
    {
     "data": {
      "text/plain": [
       "Id                     0\n",
       "Age                    0\n",
       "Job                   19\n",
       "Marital                0\n",
       "Education            169\n",
       "Default                0\n",
       "Balance                0\n",
       "HHInsurance            0\n",
       "CarLoan                0\n",
       "Communication        902\n",
       "LastContactDay         0\n",
       "LastContactMonth       0\n",
       "NoOfContacts           0\n",
       "DaysPassed             0\n",
       "PrevAttempts           0\n",
       "Outcome             3041\n",
       "CallStart              0\n",
       "CallEnd                0\n",
       "CarInsurance           0\n",
       "dtype: int64"
      ]
     },
     "execution_count": 37,
     "metadata": {},
     "output_type": "execute_result"
    }
   ],
   "source": [
    "Insurance_data.isna().sum()"
   ]
  },
  {
   "cell_type": "code",
   "execution_count": 38,
   "metadata": {
    "collapsed": true
   },
   "outputs": [],
   "source": [
    "merge_data=pd.concat([Insurance_data,Insurance_test],keys=('train','test'))"
   ]
  },
  {
   "cell_type": "code",
   "execution_count": 39,
   "metadata": {
    "collapsed": true
   },
   "outputs": [
    {
     "data": {
      "text/html": [
       "<div>\n",
       "<style scoped>\n",
       "    .dataframe tbody tr th:only-of-type {\n",
       "        vertical-align: middle;\n",
       "    }\n",
       "\n",
       "    .dataframe tbody tr th {\n",
       "        vertical-align: top;\n",
       "    }\n",
       "\n",
       "    .dataframe thead th {\n",
       "        text-align: right;\n",
       "    }\n",
       "</style>\n",
       "<table border=\"1\" class=\"dataframe\">\n",
       "  <thead>\n",
       "    <tr style=\"text-align: right;\">\n",
       "      <th></th>\n",
       "      <th></th>\n",
       "      <th>Id</th>\n",
       "      <th>Age</th>\n",
       "      <th>Job</th>\n",
       "      <th>Marital</th>\n",
       "      <th>Education</th>\n",
       "      <th>Default</th>\n",
       "      <th>Balance</th>\n",
       "      <th>HHInsurance</th>\n",
       "      <th>CarLoan</th>\n",
       "      <th>Communication</th>\n",
       "      <th>LastContactDay</th>\n",
       "      <th>LastContactMonth</th>\n",
       "      <th>NoOfContacts</th>\n",
       "      <th>DaysPassed</th>\n",
       "      <th>PrevAttempts</th>\n",
       "      <th>Outcome</th>\n",
       "      <th>CallStart</th>\n",
       "      <th>CallEnd</th>\n",
       "      <th>CarInsurance</th>\n",
       "    </tr>\n",
       "  </thead>\n",
       "  <tbody>\n",
       "    <tr>\n",
       "      <th rowspan=\"5\" valign=\"top\">train</th>\n",
       "      <th>0</th>\n",
       "      <td>1</td>\n",
       "      <td>32</td>\n",
       "      <td>management</td>\n",
       "      <td>single</td>\n",
       "      <td>tertiary</td>\n",
       "      <td>0</td>\n",
       "      <td>1218</td>\n",
       "      <td>1</td>\n",
       "      <td>0</td>\n",
       "      <td>telephone</td>\n",
       "      <td>28</td>\n",
       "      <td>jan</td>\n",
       "      <td>2</td>\n",
       "      <td>-1</td>\n",
       "      <td>0</td>\n",
       "      <td>NaN</td>\n",
       "      <td>13:45:20</td>\n",
       "      <td>13:46:30</td>\n",
       "      <td>0.0</td>\n",
       "    </tr>\n",
       "    <tr>\n",
       "      <th>1</th>\n",
       "      <td>2</td>\n",
       "      <td>32</td>\n",
       "      <td>blue-collar</td>\n",
       "      <td>married</td>\n",
       "      <td>primary</td>\n",
       "      <td>0</td>\n",
       "      <td>1156</td>\n",
       "      <td>1</td>\n",
       "      <td>0</td>\n",
       "      <td>NaN</td>\n",
       "      <td>26</td>\n",
       "      <td>may</td>\n",
       "      <td>5</td>\n",
       "      <td>-1</td>\n",
       "      <td>0</td>\n",
       "      <td>NaN</td>\n",
       "      <td>14:49:03</td>\n",
       "      <td>14:52:08</td>\n",
       "      <td>0.0</td>\n",
       "    </tr>\n",
       "    <tr>\n",
       "      <th>2</th>\n",
       "      <td>3</td>\n",
       "      <td>29</td>\n",
       "      <td>management</td>\n",
       "      <td>single</td>\n",
       "      <td>tertiary</td>\n",
       "      <td>0</td>\n",
       "      <td>637</td>\n",
       "      <td>1</td>\n",
       "      <td>0</td>\n",
       "      <td>cellular</td>\n",
       "      <td>3</td>\n",
       "      <td>jun</td>\n",
       "      <td>1</td>\n",
       "      <td>119</td>\n",
       "      <td>1</td>\n",
       "      <td>failure</td>\n",
       "      <td>16:30:24</td>\n",
       "      <td>16:36:04</td>\n",
       "      <td>1.0</td>\n",
       "    </tr>\n",
       "    <tr>\n",
       "      <th>3</th>\n",
       "      <td>4</td>\n",
       "      <td>25</td>\n",
       "      <td>student</td>\n",
       "      <td>single</td>\n",
       "      <td>primary</td>\n",
       "      <td>0</td>\n",
       "      <td>373</td>\n",
       "      <td>1</td>\n",
       "      <td>0</td>\n",
       "      <td>cellular</td>\n",
       "      <td>11</td>\n",
       "      <td>may</td>\n",
       "      <td>2</td>\n",
       "      <td>-1</td>\n",
       "      <td>0</td>\n",
       "      <td>NaN</td>\n",
       "      <td>12:06:43</td>\n",
       "      <td>12:20:22</td>\n",
       "      <td>1.0</td>\n",
       "    </tr>\n",
       "    <tr>\n",
       "      <th>4</th>\n",
       "      <td>5</td>\n",
       "      <td>30</td>\n",
       "      <td>management</td>\n",
       "      <td>married</td>\n",
       "      <td>tertiary</td>\n",
       "      <td>0</td>\n",
       "      <td>2694</td>\n",
       "      <td>0</td>\n",
       "      <td>0</td>\n",
       "      <td>cellular</td>\n",
       "      <td>3</td>\n",
       "      <td>jun</td>\n",
       "      <td>1</td>\n",
       "      <td>-1</td>\n",
       "      <td>0</td>\n",
       "      <td>NaN</td>\n",
       "      <td>14:35:44</td>\n",
       "      <td>14:38:56</td>\n",
       "      <td>0.0</td>\n",
       "    </tr>\n",
       "    <tr>\n",
       "      <th>...</th>\n",
       "      <th>...</th>\n",
       "      <td>...</td>\n",
       "      <td>...</td>\n",
       "      <td>...</td>\n",
       "      <td>...</td>\n",
       "      <td>...</td>\n",
       "      <td>...</td>\n",
       "      <td>...</td>\n",
       "      <td>...</td>\n",
       "      <td>...</td>\n",
       "      <td>...</td>\n",
       "      <td>...</td>\n",
       "      <td>...</td>\n",
       "      <td>...</td>\n",
       "      <td>...</td>\n",
       "      <td>...</td>\n",
       "      <td>...</td>\n",
       "      <td>...</td>\n",
       "      <td>...</td>\n",
       "      <td>...</td>\n",
       "    </tr>\n",
       "    <tr>\n",
       "      <th rowspan=\"5\" valign=\"top\">test</th>\n",
       "      <th>995</th>\n",
       "      <td>4996</td>\n",
       "      <td>31</td>\n",
       "      <td>admin.</td>\n",
       "      <td>single</td>\n",
       "      <td>secondary</td>\n",
       "      <td>0</td>\n",
       "      <td>131</td>\n",
       "      <td>1</td>\n",
       "      <td>0</td>\n",
       "      <td>cellular</td>\n",
       "      <td>15</td>\n",
       "      <td>jun</td>\n",
       "      <td>1</td>\n",
       "      <td>-1</td>\n",
       "      <td>0</td>\n",
       "      <td>NaN</td>\n",
       "      <td>13:54:24</td>\n",
       "      <td>13:56:55</td>\n",
       "      <td>NaN</td>\n",
       "    </tr>\n",
       "    <tr>\n",
       "      <th>996</th>\n",
       "      <td>4997</td>\n",
       "      <td>52</td>\n",
       "      <td>management</td>\n",
       "      <td>married</td>\n",
       "      <td>tertiary</td>\n",
       "      <td>0</td>\n",
       "      <td>2635</td>\n",
       "      <td>0</td>\n",
       "      <td>0</td>\n",
       "      <td>cellular</td>\n",
       "      <td>6</td>\n",
       "      <td>sep</td>\n",
       "      <td>1</td>\n",
       "      <td>108</td>\n",
       "      <td>8</td>\n",
       "      <td>success</td>\n",
       "      <td>13:13:38</td>\n",
       "      <td>13:18:51</td>\n",
       "      <td>NaN</td>\n",
       "    </tr>\n",
       "    <tr>\n",
       "      <th>997</th>\n",
       "      <td>4998</td>\n",
       "      <td>46</td>\n",
       "      <td>technician</td>\n",
       "      <td>married</td>\n",
       "      <td>tertiary</td>\n",
       "      <td>0</td>\n",
       "      <td>3009</td>\n",
       "      <td>0</td>\n",
       "      <td>0</td>\n",
       "      <td>cellular</td>\n",
       "      <td>4</td>\n",
       "      <td>aug</td>\n",
       "      <td>2</td>\n",
       "      <td>-1</td>\n",
       "      <td>0</td>\n",
       "      <td>NaN</td>\n",
       "      <td>10:23:35</td>\n",
       "      <td>10:24:33</td>\n",
       "      <td>NaN</td>\n",
       "    </tr>\n",
       "    <tr>\n",
       "      <th>998</th>\n",
       "      <td>4999</td>\n",
       "      <td>60</td>\n",
       "      <td>retired</td>\n",
       "      <td>married</td>\n",
       "      <td>secondary</td>\n",
       "      <td>0</td>\n",
       "      <td>7038</td>\n",
       "      <td>0</td>\n",
       "      <td>0</td>\n",
       "      <td>telephone</td>\n",
       "      <td>7</td>\n",
       "      <td>oct</td>\n",
       "      <td>4</td>\n",
       "      <td>-1</td>\n",
       "      <td>0</td>\n",
       "      <td>NaN</td>\n",
       "      <td>17:01:49</td>\n",
       "      <td>17:04:07</td>\n",
       "      <td>NaN</td>\n",
       "    </tr>\n",
       "    <tr>\n",
       "      <th>999</th>\n",
       "      <td>5000</td>\n",
       "      <td>28</td>\n",
       "      <td>management</td>\n",
       "      <td>single</td>\n",
       "      <td>tertiary</td>\n",
       "      <td>0</td>\n",
       "      <td>957</td>\n",
       "      <td>0</td>\n",
       "      <td>0</td>\n",
       "      <td>cellular</td>\n",
       "      <td>25</td>\n",
       "      <td>may</td>\n",
       "      <td>2</td>\n",
       "      <td>-1</td>\n",
       "      <td>0</td>\n",
       "      <td>NaN</td>\n",
       "      <td>12:15:19</td>\n",
       "      <td>12:30:34</td>\n",
       "      <td>NaN</td>\n",
       "    </tr>\n",
       "  </tbody>\n",
       "</table>\n",
       "<p>4999 rows × 19 columns</p>\n",
       "</div>"
      ],
      "text/plain": [
       "             Id  Age          Job  Marital  Education  Default  Balance  \\\n",
       "train 0       1   32   management   single   tertiary        0     1218   \n",
       "      1       2   32  blue-collar  married    primary        0     1156   \n",
       "      2       3   29   management   single   tertiary        0      637   \n",
       "      3       4   25      student   single    primary        0      373   \n",
       "      4       5   30   management  married   tertiary        0     2694   \n",
       "...         ...  ...          ...      ...        ...      ...      ...   \n",
       "test  995  4996   31       admin.   single  secondary        0      131   \n",
       "      996  4997   52   management  married   tertiary        0     2635   \n",
       "      997  4998   46   technician  married   tertiary        0     3009   \n",
       "      998  4999   60      retired  married  secondary        0     7038   \n",
       "      999  5000   28   management   single   tertiary        0      957   \n",
       "\n",
       "           HHInsurance  CarLoan Communication  LastContactDay  \\\n",
       "train 0              1        0     telephone              28   \n",
       "      1              1        0           NaN              26   \n",
       "      2              1        0      cellular               3   \n",
       "      3              1        0      cellular              11   \n",
       "      4              0        0      cellular               3   \n",
       "...                ...      ...           ...             ...   \n",
       "test  995            1        0      cellular              15   \n",
       "      996            0        0      cellular               6   \n",
       "      997            0        0      cellular               4   \n",
       "      998            0        0     telephone               7   \n",
       "      999            0        0      cellular              25   \n",
       "\n",
       "          LastContactMonth  NoOfContacts  DaysPassed  PrevAttempts  Outcome  \\\n",
       "train 0                jan             2          -1             0      NaN   \n",
       "      1                may             5          -1             0      NaN   \n",
       "      2                jun             1         119             1  failure   \n",
       "      3                may             2          -1             0      NaN   \n",
       "      4                jun             1          -1             0      NaN   \n",
       "...                    ...           ...         ...           ...      ...   \n",
       "test  995              jun             1          -1             0      NaN   \n",
       "      996              sep             1         108             8  success   \n",
       "      997              aug             2          -1             0      NaN   \n",
       "      998              oct             4          -1             0      NaN   \n",
       "      999              may             2          -1             0      NaN   \n",
       "\n",
       "          CallStart   CallEnd  CarInsurance  \n",
       "train 0    13:45:20  13:46:30           0.0  \n",
       "      1    14:49:03  14:52:08           0.0  \n",
       "      2    16:30:24  16:36:04           1.0  \n",
       "      3    12:06:43  12:20:22           1.0  \n",
       "      4    14:35:44  14:38:56           0.0  \n",
       "...             ...       ...           ...  \n",
       "test  995  13:54:24  13:56:55           NaN  \n",
       "      996  13:13:38  13:18:51           NaN  \n",
       "      997  10:23:35  10:24:33           NaN  \n",
       "      998  17:01:49  17:04:07           NaN  \n",
       "      999  12:15:19  12:30:34           NaN  \n",
       "\n",
       "[4999 rows x 19 columns]"
      ]
     },
     "execution_count": 39,
     "metadata": {},
     "output_type": "execute_result"
    }
   ],
   "source": [
    "merge_data"
   ]
  },
  {
   "cell_type": "code",
   "execution_count": 40,
   "metadata": {
    "collapsed": true
   },
   "outputs": [],
   "source": [
    "#remove id and CarInsurance variable\n",
    "merge_data.drop(['CarInsurance','Id'],axis=1,inplace=True)"
   ]
  },
  {
   "cell_type": "code",
   "execution_count": 41,
   "metadata": {
    "collapsed": true
   },
   "outputs": [
    {
     "data": {
      "text/plain": [
       "(4999, 17)"
      ]
     },
     "execution_count": 41,
     "metadata": {},
     "output_type": "execute_result"
    }
   ],
   "source": [
    "merge_data.shape"
   ]
  },
  {
   "cell_type": "code",
   "execution_count": 42,
   "metadata": {
    "collapsed": true
   },
   "outputs": [],
   "source": [
    "#total missing values in data\n",
    "total_missing=merge_data.isnull().sum()"
   ]
  },
  {
   "cell_type": "code",
   "execution_count": 43,
   "metadata": {
    "collapsed": true
   },
   "outputs": [
    {
     "data": {
      "text/plain": [
       "Age                    0\n",
       "Job                   24\n",
       "Marital                0\n",
       "Education            216\n",
       "Default                0\n",
       "Balance                0\n",
       "HHInsurance            0\n",
       "CarLoan                0\n",
       "Communication       1123\n",
       "LastContactDay         0\n",
       "LastContactMonth       0\n",
       "NoOfContacts           0\n",
       "DaysPassed             0\n",
       "PrevAttempts           0\n",
       "Outcome             3798\n",
       "CallStart              0\n",
       "CallEnd                0\n",
       "dtype: int64"
      ]
     },
     "execution_count": 43,
     "metadata": {},
     "output_type": "execute_result"
    }
   ],
   "source": [
    "total_missing"
   ]
  },
  {
   "cell_type": "code",
   "execution_count": 44,
   "metadata": {
    "collapsed": true
   },
   "outputs": [
    {
     "data": {
      "text/plain": [
       "Age                 4999\n",
       "Job                 4999\n",
       "Marital             4999\n",
       "Education           4999\n",
       "Default             4999\n",
       "Balance             4999\n",
       "HHInsurance         4999\n",
       "CarLoan             4999\n",
       "Communication       4999\n",
       "LastContactDay      4999\n",
       "LastContactMonth    4999\n",
       "NoOfContacts        4999\n",
       "DaysPassed          4999\n",
       "PrevAttempts        4999\n",
       "Outcome             4999\n",
       "CallStart           4999\n",
       "CallEnd             4999\n",
       "dtype: int64"
      ]
     },
     "execution_count": 44,
     "metadata": {},
     "output_type": "execute_result"
    }
   ],
   "source": [
    "merge_data.isnull().count()"
   ]
  },
  {
   "cell_type": "code",
   "execution_count": 45,
   "metadata": {
    "collapsed": true
   },
   "outputs": [],
   "source": [
    "#calculate percentage\n",
    "percentage=total_missing/merge_data.isnull().count()"
   ]
  },
  {
   "cell_type": "code",
   "execution_count": 46,
   "metadata": {
    "collapsed": true
   },
   "outputs": [
    {
     "data": {
      "text/plain": [
       "Age                 0.000000\n",
       "Job                 0.004801\n",
       "Marital             0.000000\n",
       "Education           0.043209\n",
       "Default             0.000000\n",
       "Balance             0.000000\n",
       "HHInsurance         0.000000\n",
       "CarLoan             0.000000\n",
       "Communication       0.224645\n",
       "LastContactDay      0.000000\n",
       "LastContactMonth    0.000000\n",
       "NoOfContacts        0.000000\n",
       "DaysPassed          0.000000\n",
       "PrevAttempts        0.000000\n",
       "Outcome             0.759752\n",
       "CallStart           0.000000\n",
       "CallEnd             0.000000\n",
       "dtype: float64"
      ]
     },
     "execution_count": 46,
     "metadata": {},
     "output_type": "execute_result"
    }
   ],
   "source": [
    "percentage"
   ]
  },
  {
   "cell_type": "code",
   "execution_count": 47,
   "metadata": {
    "collapsed": true
   },
   "outputs": [],
   "source": [
    "#combine total_missing and percentage\n",
    "NAs=pd.concat([total_missing,percentage],axis=1,keys=('Total','Percentage'))"
   ]
  },
  {
   "cell_type": "code",
   "execution_count": 48,
   "metadata": {
    "collapsed": true
   },
   "outputs": [
    {
     "data": {
      "text/html": [
       "<div>\n",
       "<style scoped>\n",
       "    .dataframe tbody tr th:only-of-type {\n",
       "        vertical-align: middle;\n",
       "    }\n",
       "\n",
       "    .dataframe tbody tr th {\n",
       "        vertical-align: top;\n",
       "    }\n",
       "\n",
       "    .dataframe thead th {\n",
       "        text-align: right;\n",
       "    }\n",
       "</style>\n",
       "<table border=\"1\" class=\"dataframe\">\n",
       "  <thead>\n",
       "    <tr style=\"text-align: right;\">\n",
       "      <th></th>\n",
       "      <th>Total</th>\n",
       "      <th>Percentage</th>\n",
       "    </tr>\n",
       "  </thead>\n",
       "  <tbody>\n",
       "    <tr>\n",
       "      <th>Age</th>\n",
       "      <td>0</td>\n",
       "      <td>0.000000</td>\n",
       "    </tr>\n",
       "    <tr>\n",
       "      <th>Job</th>\n",
       "      <td>24</td>\n",
       "      <td>0.004801</td>\n",
       "    </tr>\n",
       "    <tr>\n",
       "      <th>Marital</th>\n",
       "      <td>0</td>\n",
       "      <td>0.000000</td>\n",
       "    </tr>\n",
       "    <tr>\n",
       "      <th>Education</th>\n",
       "      <td>216</td>\n",
       "      <td>0.043209</td>\n",
       "    </tr>\n",
       "    <tr>\n",
       "      <th>Default</th>\n",
       "      <td>0</td>\n",
       "      <td>0.000000</td>\n",
       "    </tr>\n",
       "    <tr>\n",
       "      <th>Balance</th>\n",
       "      <td>0</td>\n",
       "      <td>0.000000</td>\n",
       "    </tr>\n",
       "    <tr>\n",
       "      <th>HHInsurance</th>\n",
       "      <td>0</td>\n",
       "      <td>0.000000</td>\n",
       "    </tr>\n",
       "    <tr>\n",
       "      <th>CarLoan</th>\n",
       "      <td>0</td>\n",
       "      <td>0.000000</td>\n",
       "    </tr>\n",
       "    <tr>\n",
       "      <th>Communication</th>\n",
       "      <td>1123</td>\n",
       "      <td>0.224645</td>\n",
       "    </tr>\n",
       "    <tr>\n",
       "      <th>LastContactDay</th>\n",
       "      <td>0</td>\n",
       "      <td>0.000000</td>\n",
       "    </tr>\n",
       "    <tr>\n",
       "      <th>LastContactMonth</th>\n",
       "      <td>0</td>\n",
       "      <td>0.000000</td>\n",
       "    </tr>\n",
       "    <tr>\n",
       "      <th>NoOfContacts</th>\n",
       "      <td>0</td>\n",
       "      <td>0.000000</td>\n",
       "    </tr>\n",
       "    <tr>\n",
       "      <th>DaysPassed</th>\n",
       "      <td>0</td>\n",
       "      <td>0.000000</td>\n",
       "    </tr>\n",
       "    <tr>\n",
       "      <th>PrevAttempts</th>\n",
       "      <td>0</td>\n",
       "      <td>0.000000</td>\n",
       "    </tr>\n",
       "    <tr>\n",
       "      <th>Outcome</th>\n",
       "      <td>3798</td>\n",
       "      <td>0.759752</td>\n",
       "    </tr>\n",
       "    <tr>\n",
       "      <th>CallStart</th>\n",
       "      <td>0</td>\n",
       "      <td>0.000000</td>\n",
       "    </tr>\n",
       "    <tr>\n",
       "      <th>CallEnd</th>\n",
       "      <td>0</td>\n",
       "      <td>0.000000</td>\n",
       "    </tr>\n",
       "  </tbody>\n",
       "</table>\n",
       "</div>"
      ],
      "text/plain": [
       "                  Total  Percentage\n",
       "Age                   0    0.000000\n",
       "Job                  24    0.004801\n",
       "Marital               0    0.000000\n",
       "Education           216    0.043209\n",
       "Default               0    0.000000\n",
       "Balance               0    0.000000\n",
       "HHInsurance           0    0.000000\n",
       "CarLoan               0    0.000000\n",
       "Communication      1123    0.224645\n",
       "LastContactDay        0    0.000000\n",
       "LastContactMonth      0    0.000000\n",
       "NoOfContacts          0    0.000000\n",
       "DaysPassed            0    0.000000\n",
       "PrevAttempts          0    0.000000\n",
       "Outcome            3798    0.759752\n",
       "CallStart             0    0.000000\n",
       "CallEnd               0    0.000000"
      ]
     },
     "execution_count": 48,
     "metadata": {},
     "output_type": "execute_result"
    }
   ],
   "source": [
    "NAs"
   ]
  },
  {
   "cell_type": "code",
   "execution_count": 49,
   "metadata": {
    "collapsed": true
   },
   "outputs": [
    {
     "data": {
      "text/html": [
       "<div>\n",
       "<style scoped>\n",
       "    .dataframe tbody tr th:only-of-type {\n",
       "        vertical-align: middle;\n",
       "    }\n",
       "\n",
       "    .dataframe tbody tr th {\n",
       "        vertical-align: top;\n",
       "    }\n",
       "\n",
       "    .dataframe thead th {\n",
       "        text-align: right;\n",
       "    }\n",
       "</style>\n",
       "<table border=\"1\" class=\"dataframe\">\n",
       "  <thead>\n",
       "    <tr style=\"text-align: right;\">\n",
       "      <th></th>\n",
       "      <th>Total</th>\n",
       "      <th>Percentage</th>\n",
       "    </tr>\n",
       "  </thead>\n",
       "  <tbody>\n",
       "    <tr>\n",
       "      <th>Outcome</th>\n",
       "      <td>3798</td>\n",
       "      <td>0.759752</td>\n",
       "    </tr>\n",
       "    <tr>\n",
       "      <th>Communication</th>\n",
       "      <td>1123</td>\n",
       "      <td>0.224645</td>\n",
       "    </tr>\n",
       "    <tr>\n",
       "      <th>Education</th>\n",
       "      <td>216</td>\n",
       "      <td>0.043209</td>\n",
       "    </tr>\n",
       "    <tr>\n",
       "      <th>Job</th>\n",
       "      <td>24</td>\n",
       "      <td>0.004801</td>\n",
       "    </tr>\n",
       "  </tbody>\n",
       "</table>\n",
       "</div>"
      ],
      "text/plain": [
       "               Total  Percentage\n",
       "Outcome         3798    0.759752\n",
       "Communication   1123    0.224645\n",
       "Education        216    0.043209\n",
       "Job               24    0.004801"
      ]
     },
     "execution_count": 49,
     "metadata": {},
     "output_type": "execute_result"
    }
   ],
   "source": [
    "#getting columns where there are missing values\n",
    "NAs[NAs.Total>0].sort_values(by='Total',ascending=False)"
   ]
  },
  {
   "cell_type": "code",
   "execution_count": 50,
   "metadata": {
    "collapsed": true
   },
   "outputs": [],
   "source": [
    "#Replacing missing values\n",
    "merge_data_df=merge_data.copy() #creating copy of the dataset"
   ]
  },
  {
   "cell_type": "code",
   "execution_count": 51,
   "metadata": {
    "collapsed": true
   },
   "outputs": [
    {
     "data": {
      "text/plain": [
       "Outcome\n",
       "failure    56\n",
       "other      49\n",
       "success    60\n",
       "Name: Age, dtype: int64"
      ]
     },
     "execution_count": 51,
     "metadata": {},
     "output_type": "execute_result"
    }
   ],
   "source": [
    "merge_data_df.groupby('Outcome')['Age'].nunique()"
   ]
  },
  {
   "cell_type": "markdown",
   "metadata": {},
   "source": [
    "<h3>nunique()</h3> \n",
    "\n",
    "This function return number of unique elements in the object. It returns a scalar value which is the count of all the unique values in the Index. By default the NaN values are not included in the count."
   ]
  },
  {
   "cell_type": "code",
   "execution_count": 52,
   "metadata": {
    "collapsed": true
   },
   "outputs": [
    {
     "data": {
      "text/plain": [
       "Outcome\n",
       "failure    548\n",
       "other      248\n",
       "success    405\n",
       "Name: Age, dtype: int64"
      ]
     },
     "execution_count": 52,
     "metadata": {},
     "output_type": "execute_result"
    }
   ],
   "source": [
    "merge_data_df.groupby('Outcome')['Age'].count()"
   ]
  },
  {
   "cell_type": "code",
   "execution_count": 53,
   "metadata": {
    "collapsed": true
   },
   "outputs": [
    {
     "data": {
      "text/html": [
       "<div>\n",
       "<style scoped>\n",
       "    .dataframe tbody tr th:only-of-type {\n",
       "        vertical-align: middle;\n",
       "    }\n",
       "\n",
       "    .dataframe tbody tr th {\n",
       "        vertical-align: top;\n",
       "    }\n",
       "\n",
       "    .dataframe thead th {\n",
       "        text-align: right;\n",
       "    }\n",
       "</style>\n",
       "<table border=\"1\" class=\"dataframe\">\n",
       "  <thead>\n",
       "    <tr style=\"text-align: right;\">\n",
       "      <th></th>\n",
       "      <th></th>\n",
       "      <th>Age</th>\n",
       "      <th>Job</th>\n",
       "      <th>Marital</th>\n",
       "      <th>Education</th>\n",
       "      <th>Default</th>\n",
       "      <th>Balance</th>\n",
       "      <th>HHInsurance</th>\n",
       "      <th>CarLoan</th>\n",
       "      <th>Communication</th>\n",
       "      <th>LastContactDay</th>\n",
       "      <th>LastContactMonth</th>\n",
       "      <th>NoOfContacts</th>\n",
       "      <th>DaysPassed</th>\n",
       "      <th>PrevAttempts</th>\n",
       "      <th>Outcome</th>\n",
       "      <th>CallStart</th>\n",
       "      <th>CallEnd</th>\n",
       "    </tr>\n",
       "  </thead>\n",
       "  <tbody>\n",
       "    <tr>\n",
       "      <th rowspan=\"5\" valign=\"top\">train</th>\n",
       "      <th>0</th>\n",
       "      <td>32</td>\n",
       "      <td>management</td>\n",
       "      <td>single</td>\n",
       "      <td>tertiary</td>\n",
       "      <td>0</td>\n",
       "      <td>1218</td>\n",
       "      <td>1</td>\n",
       "      <td>0</td>\n",
       "      <td>telephone</td>\n",
       "      <td>28</td>\n",
       "      <td>jan</td>\n",
       "      <td>2</td>\n",
       "      <td>-1</td>\n",
       "      <td>0</td>\n",
       "      <td>NaN</td>\n",
       "      <td>13:45:20</td>\n",
       "      <td>13:46:30</td>\n",
       "    </tr>\n",
       "    <tr>\n",
       "      <th>1</th>\n",
       "      <td>32</td>\n",
       "      <td>blue-collar</td>\n",
       "      <td>married</td>\n",
       "      <td>primary</td>\n",
       "      <td>0</td>\n",
       "      <td>1156</td>\n",
       "      <td>1</td>\n",
       "      <td>0</td>\n",
       "      <td>NaN</td>\n",
       "      <td>26</td>\n",
       "      <td>may</td>\n",
       "      <td>5</td>\n",
       "      <td>-1</td>\n",
       "      <td>0</td>\n",
       "      <td>NaN</td>\n",
       "      <td>14:49:03</td>\n",
       "      <td>14:52:08</td>\n",
       "    </tr>\n",
       "    <tr>\n",
       "      <th>3</th>\n",
       "      <td>25</td>\n",
       "      <td>student</td>\n",
       "      <td>single</td>\n",
       "      <td>primary</td>\n",
       "      <td>0</td>\n",
       "      <td>373</td>\n",
       "      <td>1</td>\n",
       "      <td>0</td>\n",
       "      <td>cellular</td>\n",
       "      <td>11</td>\n",
       "      <td>may</td>\n",
       "      <td>2</td>\n",
       "      <td>-1</td>\n",
       "      <td>0</td>\n",
       "      <td>NaN</td>\n",
       "      <td>12:06:43</td>\n",
       "      <td>12:20:22</td>\n",
       "    </tr>\n",
       "    <tr>\n",
       "      <th>4</th>\n",
       "      <td>30</td>\n",
       "      <td>management</td>\n",
       "      <td>married</td>\n",
       "      <td>tertiary</td>\n",
       "      <td>0</td>\n",
       "      <td>2694</td>\n",
       "      <td>0</td>\n",
       "      <td>0</td>\n",
       "      <td>cellular</td>\n",
       "      <td>3</td>\n",
       "      <td>jun</td>\n",
       "      <td>1</td>\n",
       "      <td>-1</td>\n",
       "      <td>0</td>\n",
       "      <td>NaN</td>\n",
       "      <td>14:35:44</td>\n",
       "      <td>14:38:56</td>\n",
       "    </tr>\n",
       "    <tr>\n",
       "      <th>6</th>\n",
       "      <td>37</td>\n",
       "      <td>admin.</td>\n",
       "      <td>single</td>\n",
       "      <td>tertiary</td>\n",
       "      <td>0</td>\n",
       "      <td>1000</td>\n",
       "      <td>1</td>\n",
       "      <td>0</td>\n",
       "      <td>cellular</td>\n",
       "      <td>17</td>\n",
       "      <td>mar</td>\n",
       "      <td>1</td>\n",
       "      <td>-1</td>\n",
       "      <td>0</td>\n",
       "      <td>NaN</td>\n",
       "      <td>13:00:02</td>\n",
       "      <td>13:03:17</td>\n",
       "    </tr>\n",
       "    <tr>\n",
       "      <th>...</th>\n",
       "      <th>...</th>\n",
       "      <td>...</td>\n",
       "      <td>...</td>\n",
       "      <td>...</td>\n",
       "      <td>...</td>\n",
       "      <td>...</td>\n",
       "      <td>...</td>\n",
       "      <td>...</td>\n",
       "      <td>...</td>\n",
       "      <td>...</td>\n",
       "      <td>...</td>\n",
       "      <td>...</td>\n",
       "      <td>...</td>\n",
       "      <td>...</td>\n",
       "      <td>...</td>\n",
       "      <td>...</td>\n",
       "      <td>...</td>\n",
       "      <td>...</td>\n",
       "    </tr>\n",
       "    <tr>\n",
       "      <th rowspan=\"5\" valign=\"top\">test</th>\n",
       "      <th>993</th>\n",
       "      <td>41</td>\n",
       "      <td>services</td>\n",
       "      <td>married</td>\n",
       "      <td>secondary</td>\n",
       "      <td>0</td>\n",
       "      <td>138</td>\n",
       "      <td>1</td>\n",
       "      <td>0</td>\n",
       "      <td>NaN</td>\n",
       "      <td>1</td>\n",
       "      <td>jul</td>\n",
       "      <td>3</td>\n",
       "      <td>-1</td>\n",
       "      <td>0</td>\n",
       "      <td>NaN</td>\n",
       "      <td>14:33:09</td>\n",
       "      <td>14:35:25</td>\n",
       "    </tr>\n",
       "    <tr>\n",
       "      <th>995</th>\n",
       "      <td>31</td>\n",
       "      <td>admin.</td>\n",
       "      <td>single</td>\n",
       "      <td>secondary</td>\n",
       "      <td>0</td>\n",
       "      <td>131</td>\n",
       "      <td>1</td>\n",
       "      <td>0</td>\n",
       "      <td>cellular</td>\n",
       "      <td>15</td>\n",
       "      <td>jun</td>\n",
       "      <td>1</td>\n",
       "      <td>-1</td>\n",
       "      <td>0</td>\n",
       "      <td>NaN</td>\n",
       "      <td>13:54:24</td>\n",
       "      <td>13:56:55</td>\n",
       "    </tr>\n",
       "    <tr>\n",
       "      <th>997</th>\n",
       "      <td>46</td>\n",
       "      <td>technician</td>\n",
       "      <td>married</td>\n",
       "      <td>tertiary</td>\n",
       "      <td>0</td>\n",
       "      <td>3009</td>\n",
       "      <td>0</td>\n",
       "      <td>0</td>\n",
       "      <td>cellular</td>\n",
       "      <td>4</td>\n",
       "      <td>aug</td>\n",
       "      <td>2</td>\n",
       "      <td>-1</td>\n",
       "      <td>0</td>\n",
       "      <td>NaN</td>\n",
       "      <td>10:23:35</td>\n",
       "      <td>10:24:33</td>\n",
       "    </tr>\n",
       "    <tr>\n",
       "      <th>998</th>\n",
       "      <td>60</td>\n",
       "      <td>retired</td>\n",
       "      <td>married</td>\n",
       "      <td>secondary</td>\n",
       "      <td>0</td>\n",
       "      <td>7038</td>\n",
       "      <td>0</td>\n",
       "      <td>0</td>\n",
       "      <td>telephone</td>\n",
       "      <td>7</td>\n",
       "      <td>oct</td>\n",
       "      <td>4</td>\n",
       "      <td>-1</td>\n",
       "      <td>0</td>\n",
       "      <td>NaN</td>\n",
       "      <td>17:01:49</td>\n",
       "      <td>17:04:07</td>\n",
       "    </tr>\n",
       "    <tr>\n",
       "      <th>999</th>\n",
       "      <td>28</td>\n",
       "      <td>management</td>\n",
       "      <td>single</td>\n",
       "      <td>tertiary</td>\n",
       "      <td>0</td>\n",
       "      <td>957</td>\n",
       "      <td>0</td>\n",
       "      <td>0</td>\n",
       "      <td>cellular</td>\n",
       "      <td>25</td>\n",
       "      <td>may</td>\n",
       "      <td>2</td>\n",
       "      <td>-1</td>\n",
       "      <td>0</td>\n",
       "      <td>NaN</td>\n",
       "      <td>12:15:19</td>\n",
       "      <td>12:30:34</td>\n",
       "    </tr>\n",
       "  </tbody>\n",
       "</table>\n",
       "<p>3798 rows × 17 columns</p>\n",
       "</div>"
      ],
      "text/plain": [
       "           Age          Job  Marital  Education  Default  Balance  \\\n",
       "train 0     32   management   single   tertiary        0     1218   \n",
       "      1     32  blue-collar  married    primary        0     1156   \n",
       "      3     25      student   single    primary        0      373   \n",
       "      4     30   management  married   tertiary        0     2694   \n",
       "      6     37       admin.   single   tertiary        0     1000   \n",
       "...        ...          ...      ...        ...      ...      ...   \n",
       "test  993   41     services  married  secondary        0      138   \n",
       "      995   31       admin.   single  secondary        0      131   \n",
       "      997   46   technician  married   tertiary        0     3009   \n",
       "      998   60      retired  married  secondary        0     7038   \n",
       "      999   28   management   single   tertiary        0      957   \n",
       "\n",
       "           HHInsurance  CarLoan Communication  LastContactDay  \\\n",
       "train 0              1        0     telephone              28   \n",
       "      1              1        0           NaN              26   \n",
       "      3              1        0      cellular              11   \n",
       "      4              0        0      cellular               3   \n",
       "      6              1        0      cellular              17   \n",
       "...                ...      ...           ...             ...   \n",
       "test  993            1        0           NaN               1   \n",
       "      995            1        0      cellular              15   \n",
       "      997            0        0      cellular               4   \n",
       "      998            0        0     telephone               7   \n",
       "      999            0        0      cellular              25   \n",
       "\n",
       "          LastContactMonth  NoOfContacts  DaysPassed  PrevAttempts Outcome  \\\n",
       "train 0                jan             2          -1             0     NaN   \n",
       "      1                may             5          -1             0     NaN   \n",
       "      3                may             2          -1             0     NaN   \n",
       "      4                jun             1          -1             0     NaN   \n",
       "      6                mar             1          -1             0     NaN   \n",
       "...                    ...           ...         ...           ...     ...   \n",
       "test  993              jul             3          -1             0     NaN   \n",
       "      995              jun             1          -1             0     NaN   \n",
       "      997              aug             2          -1             0     NaN   \n",
       "      998              oct             4          -1             0     NaN   \n",
       "      999              may             2          -1             0     NaN   \n",
       "\n",
       "          CallStart   CallEnd  \n",
       "train 0    13:45:20  13:46:30  \n",
       "      1    14:49:03  14:52:08  \n",
       "      3    12:06:43  12:20:22  \n",
       "      4    14:35:44  14:38:56  \n",
       "      6    13:00:02  13:03:17  \n",
       "...             ...       ...  \n",
       "test  993  14:33:09  14:35:25  \n",
       "      995  13:54:24  13:56:55  \n",
       "      997  10:23:35  10:24:33  \n",
       "      998  17:01:49  17:04:07  \n",
       "      999  12:15:19  12:30:34  \n",
       "\n",
       "[3798 rows x 17 columns]"
      ]
     },
     "execution_count": 53,
     "metadata": {},
     "output_type": "execute_result"
    }
   ],
   "source": [
    "merge_data_df[merge_data_df.DaysPassed==-1]"
   ]
  },
  {
   "cell_type": "code",
   "execution_count": 54,
   "metadata": {
    "collapsed": true
   },
   "outputs": [],
   "source": [
    "merge_data_df.loc[merge_data_df['DaysPassed']==-1,'Outcome']='NoPrev' \n",
    "#loc used to check given condition by each index."
   ]
  },
  {
   "cell_type": "code",
   "execution_count": 55,
   "metadata": {
    "collapsed": true
   },
   "outputs": [
    {
     "data": {
      "text/plain": [
       "NoPrev     0.759752\n",
       "failure    0.109622\n",
       "success    0.081016\n",
       "other      0.049610\n",
       "Name: Outcome, dtype: float64"
      ]
     },
     "execution_count": 55,
     "metadata": {},
     "output_type": "execute_result"
    }
   ],
   "source": [
    "merge_data_df.Outcome.value_counts(1)"
   ]
  },
  {
   "cell_type": "code",
   "execution_count": 56,
   "metadata": {
    "collapsed": true
   },
   "outputs": [
    {
     "data": {
      "text/plain": [
       "0"
      ]
     },
     "execution_count": 56,
     "metadata": {},
     "output_type": "execute_result"
    }
   ],
   "source": [
    "merge_data_df.Outcome.isnull().sum()"
   ]
  },
  {
   "cell_type": "code",
   "execution_count": 57,
   "metadata": {
    "collapsed": true
   },
   "outputs": [
    {
     "data": {
      "text/plain": [
       "cellular     3529\n",
       "telephone     347\n",
       "Name: Communication, dtype: int64"
      ]
     },
     "execution_count": 57,
     "metadata": {},
     "output_type": "execute_result"
    }
   ],
   "source": [
    "merge_data_df.Communication.value_counts()"
   ]
  },
  {
   "cell_type": "code",
   "execution_count": 58,
   "metadata": {
    "collapsed": true
   },
   "outputs": [],
   "source": [
    "merge_data_df.Communication.fillna('None',inplace=True)"
   ]
  },
  {
   "cell_type": "code",
   "execution_count": 59,
   "metadata": {
    "collapsed": true
   },
   "outputs": [
    {
     "data": {
      "text/plain": [
       "cellular     3529\n",
       "None         1123\n",
       "telephone     347\n",
       "Name: Communication, dtype: int64"
      ]
     },
     "execution_count": 59,
     "metadata": {},
     "output_type": "execute_result"
    }
   ],
   "source": [
    "merge_data_df.Communication.value_counts()"
   ]
  },
  {
   "cell_type": "code",
   "execution_count": 60,
   "metadata": {
    "collapsed": true
   },
   "outputs": [
    {
     "data": {
      "text/plain": [
       "secondary    2489\n",
       "tertiary     1600\n",
       "primary       694\n",
       "Name: Education, dtype: int64"
      ]
     },
     "execution_count": 60,
     "metadata": {},
     "output_type": "execute_result"
    }
   ],
   "source": [
    "merge_data_df.Education.value_counts()"
   ]
  },
  {
   "cell_type": "code",
   "execution_count": 127,
   "metadata": {
    "collapsed": true
   },
   "outputs": [],
   "source": [
    "#create job-education level mapping list\n",
    "edu_mode=[]"
   ]
  },
  {
   "cell_type": "code",
   "execution_count": 62,
   "metadata": {
    "collapsed": true
   },
   "outputs": [],
   "source": [
    "#what are different job types\n",
    "job_types=merge_data_df.Job.value_counts().index"
   ]
  },
  {
   "cell_type": "code",
   "execution_count": 63,
   "metadata": {
    "collapsed": true
   },
   "outputs": [
    {
     "data": {
      "text/plain": [
       "Index(['management', 'blue-collar', 'technician', 'admin.', 'services',\n",
       "       'retired', 'self-employed', 'unemployed', 'student', 'entrepreneur',\n",
       "       'housemaid'],\n",
       "      dtype='object')"
      ]
     },
     "execution_count": 63,
     "metadata": {},
     "output_type": "execute_result"
    }
   ],
   "source": [
    "job_types"
   ]
  },
  {
   "cell_type": "code",
   "execution_count": 64,
   "metadata": {
    "collapsed": true
   },
   "outputs": [
    {
     "data": {
      "text/plain": [
       "management       1113\n",
       "blue-collar       937\n",
       "technician        823\n",
       "admin.            586\n",
       "services          414\n",
       "retired           326\n",
       "self-employed     182\n",
       "unemployed        164\n",
       "student           158\n",
       "entrepreneur      149\n",
       "housemaid         123\n",
       "Name: Job, dtype: int64"
      ]
     },
     "execution_count": 64,
     "metadata": {},
     "output_type": "execute_result"
    }
   ],
   "source": [
    "#Checking which job is most common\n",
    "merge_data_df.Job.value_counts()"
   ]
  },
  {
   "cell_type": "code",
   "execution_count": 65,
   "metadata": {
    "collapsed": true
   },
   "outputs": [],
   "source": [
    "for job in job_types:\n",
    "    mode=merge_data_df[merge_data_df.Job==job]['Education'].value_counts().nlargest(1).index\n",
    "    edu_mode=np.append(edu_mode,mode)"
   ]
  },
  {
   "cell_type": "code",
   "execution_count": 66,
   "metadata": {
    "collapsed": true
   },
   "outputs": [
    {
     "data": {
      "text/plain": [
       "array(['tertiary', 'secondary', 'secondary', 'secondary', 'secondary',\n",
       "       'secondary', 'tertiary', 'secondary', 'secondary', 'tertiary',\n",
       "       'primary'], dtype=object)"
      ]
     },
     "execution_count": 66,
     "metadata": {},
     "output_type": "execute_result"
    }
   ],
   "source": [
    "edu_mode"
   ]
  },
  {
   "cell_type": "code",
   "execution_count": 134,
   "metadata": {
    "collapsed": true
   },
   "outputs": [
    {
     "data": {
      "text/plain": [
       "Index(['management', 'blue-collar', 'technician', 'admin.', 'services',\n",
       "       'retired', 'self-employed', 'unemployed', 'student', 'entrepreneur',\n",
       "       'housemaid', 'None'],\n",
       "      dtype='object')"
      ]
     },
     "execution_count": 134,
     "metadata": {},
     "output_type": "execute_result"
    }
   ],
   "source": [
    "merge_data_df.Job.value_counts().index"
   ]
  },
  {
   "cell_type": "code",
   "execution_count": 132,
   "metadata": {
    "collapsed": true
   },
   "outputs": [
    {
     "data": {
      "text/plain": [
       "Index(['management', 'blue-collar', 'technician', 'admin.', 'services'], dtype='object')"
      ]
     },
     "execution_count": 132,
     "metadata": {},
     "output_type": "execute_result"
    }
   ],
   "source": [
    "merge_data_df.Job.value_counts().nlargest().index"
   ]
  },
  {
   "cell_type": "code",
   "execution_count": 67,
   "metadata": {
    "collapsed": true
   },
   "outputs": [],
   "source": [
    "edu_map=pd.Series(edu_mode,index=merge_data_df.Job.value_counts().index)"
   ]
  },
  {
   "cell_type": "code",
   "execution_count": 68,
   "metadata": {
    "collapsed": true
   },
   "outputs": [
    {
     "data": {
      "text/plain": [
       "management        tertiary\n",
       "blue-collar      secondary\n",
       "technician       secondary\n",
       "admin.           secondary\n",
       "services         secondary\n",
       "retired          secondary\n",
       "self-employed     tertiary\n",
       "unemployed       secondary\n",
       "student          secondary\n",
       "entrepreneur      tertiary\n",
       "housemaid          primary\n",
       "dtype: object"
      ]
     },
     "execution_count": 68,
     "metadata": {},
     "output_type": "execute_result"
    }
   ],
   "source": [
    "edu_map"
   ]
  },
  {
   "cell_type": "code",
   "execution_count": 69,
   "metadata": {
    "collapsed": true
   },
   "outputs": [],
   "source": [
    "#apply the mapping to missing education variable\n",
    "for j in job_types:\n",
    "    merge_data_df.loc[(merge_data_df['Education'].isnull())&\n",
    "                     (merge_data_df['Job']==j),'Education']=edu_map.loc[edu_map.index==j][0]"
   ]
  },
  {
   "cell_type": "code",
   "execution_count": 70,
   "metadata": {
    "collapsed": true
   },
   "outputs": [],
   "source": [
    "merge_data_df['Education'].fillna('None',inplace=True)"
   ]
  },
  {
   "cell_type": "code",
   "execution_count": 71,
   "metadata": {
    "collapsed": true
   },
   "outputs": [
    {
     "data": {
      "text/plain": [
       "secondary    2639\n",
       "tertiary     1649\n",
       "primary       700\n",
       "None           11\n",
       "Name: Education, dtype: int64"
      ]
     },
     "execution_count": 71,
     "metadata": {},
     "output_type": "execute_result"
    }
   ],
   "source": [
    "merge_data_df.Education.value_counts()"
   ]
  },
  {
   "cell_type": "code",
   "execution_count": 72,
   "metadata": {
    "collapsed": true
   },
   "outputs": [
    {
     "data": {
      "text/plain": [
       "24"
      ]
     },
     "execution_count": 72,
     "metadata": {},
     "output_type": "execute_result"
    }
   ],
   "source": [
    "#How Many missing values in job\n",
    "merge_data_df.Job.isnull().sum()"
   ]
  },
  {
   "cell_type": "code",
   "execution_count": 73,
   "metadata": {
    "collapsed": true
   },
   "outputs": [],
   "source": [
    "#filling missing Values in Job with None\n",
    "merge_data_df.Job.fillna('None',inplace=True)"
   ]
  },
  {
   "cell_type": "code",
   "execution_count": 74,
   "metadata": {
    "collapsed": true
   },
   "outputs": [
    {
     "data": {
      "text/plain": [
       "0"
      ]
     },
     "execution_count": 74,
     "metadata": {},
     "output_type": "execute_result"
    }
   ],
   "source": [
    "merge_data_df.Job.isnull().sum()"
   ]
  },
  {
   "cell_type": "code",
   "execution_count": 75,
   "metadata": {
    "collapsed": true
   },
   "outputs": [
    {
     "data": {
      "text/plain": [
       "management       1113\n",
       "blue-collar       937\n",
       "technician        823\n",
       "admin.            586\n",
       "services          414\n",
       "retired           326\n",
       "self-employed     182\n",
       "unemployed        164\n",
       "student           158\n",
       "entrepreneur      149\n",
       "housemaid         123\n",
       "None               24\n",
       "Name: Job, dtype: int64"
      ]
     },
     "execution_count": 75,
     "metadata": {},
     "output_type": "execute_result"
    }
   ],
   "source": [
    "merge_data_df.Job.value_counts()"
   ]
  },
  {
   "cell_type": "code",
   "execution_count": 76,
   "metadata": {
    "collapsed": true
   },
   "outputs": [
    {
     "data": {
      "text/plain": [
       "Age                 0\n",
       "Job                 0\n",
       "Marital             0\n",
       "Education           0\n",
       "Default             0\n",
       "Balance             0\n",
       "HHInsurance         0\n",
       "CarLoan             0\n",
       "Communication       0\n",
       "LastContactDay      0\n",
       "LastContactMonth    0\n",
       "NoOfContacts        0\n",
       "DaysPassed          0\n",
       "PrevAttempts        0\n",
       "Outcome             0\n",
       "CallStart           0\n",
       "CallEnd             0\n",
       "dtype: int64"
      ]
     },
     "execution_count": 76,
     "metadata": {},
     "output_type": "execute_result"
    }
   ],
   "source": [
    "merge_data_df.isna().sum()"
   ]
  },
  {
   "cell_type": "code",
   "execution_count": 77,
   "metadata": {
    "collapsed": true
   },
   "outputs": [],
   "source": [
    "import sys"
   ]
  },
  {
   "cell_type": "code",
   "execution_count": 78,
   "metadata": {
    "collapsed": true
   },
   "outputs": [
    {
     "data": {
      "text/plain": [
       "'3.8.11 (default, Aug  6 2021, 09:58:08) [MSC v.1916 32 bit (Intel)]'"
      ]
     },
     "execution_count": 78,
     "metadata": {},
     "output_type": "execute_result"
    }
   ],
   "source": [
    "sys.version"
   ]
  },
  {
   "cell_type": "code",
   "execution_count": 79,
   "metadata": {
    "collapsed": true
   },
   "outputs": [],
   "source": [
    "# lets seperate numeric and categorical data\n",
    "numeric_dtypes=merge_data_df.select_dtypes(include=[np.number]).columns\n",
    "categorical_dtypes=merge_data_df.select_dtypes(include=['object']).columns"
   ]
  },
  {
   "cell_type": "code",
   "execution_count": 80,
   "metadata": {
    "collapsed": true
   },
   "outputs": [
    {
     "data": {
      "text/plain": [
       "Index(['Age', 'Default', 'Balance', 'HHInsurance', 'CarLoan', 'LastContactDay',\n",
       "       'NoOfContacts', 'DaysPassed', 'PrevAttempts'],\n",
       "      dtype='object')"
      ]
     },
     "execution_count": 80,
     "metadata": {},
     "output_type": "execute_result"
    }
   ],
   "source": [
    "numeric_dtypes"
   ]
  },
  {
   "cell_type": "code",
   "execution_count": 81,
   "metadata": {
    "collapsed": true
   },
   "outputs": [],
   "source": [
    "merge_data_df_num=merge_data_df[numeric_dtypes] # Seperating numeric data\n",
    "merge_data_df_cat=merge_data_df[categorical_dtypes] #seperating categorical data"
   ]
  },
  {
   "cell_type": "code",
   "execution_count": 82,
   "metadata": {
    "collapsed": true
   },
   "outputs": [
    {
     "data": {
      "text/plain": [
       "Index(['Age', 'Default', 'Balance', 'HHInsurance', 'CarLoan', 'LastContactDay',\n",
       "       'NoOfContacts', 'DaysPassed', 'PrevAttempts'],\n",
       "      dtype='object')"
      ]
     },
     "execution_count": 82,
     "metadata": {},
     "output_type": "execute_result"
    }
   ],
   "source": [
    "merge_data_df_num.columns"
   ]
  },
  {
   "cell_type": "code",
   "execution_count": 83,
   "metadata": {
    "collapsed": true
   },
   "outputs": [
    {
     "data": {
      "text/plain": [
       "Index(['Job', 'Marital', 'Education', 'Communication', 'LastContactMonth',\n",
       "       'Outcome', 'CallStart', 'CallEnd'],\n",
       "      dtype='object')"
      ]
     },
     "execution_count": 83,
     "metadata": {},
     "output_type": "execute_result"
    }
   ],
   "source": [
    "merge_data_df_cat.columns"
   ]
  },
  {
   "cell_type": "code",
   "execution_count": 84,
   "metadata": {
    "collapsed": true
   },
   "outputs": [],
   "source": [
    "# we will remove  call start and call end from our variables\n",
    "merge_data_df_cat=merge_data_df_cat[['Job','Marital','Education','Communication','LastContactMonth','Outcome']]"
   ]
  },
  {
   "cell_type": "code",
   "execution_count": 85,
   "metadata": {
    "collapsed": true
   },
   "outputs": [
    {
     "data": {
      "text/plain": [
       "Index(['Job', 'Marital', 'Education', 'Communication', 'LastContactMonth',\n",
       "       'Outcome'],\n",
       "      dtype='object')"
      ]
     },
     "execution_count": 85,
     "metadata": {},
     "output_type": "execute_result"
    }
   ],
   "source": [
    "merge_data_df_cat.columns"
   ]
  },
  {
   "cell_type": "code",
   "execution_count": 139,
   "metadata": {
    "collapsed": true
   },
   "outputs": [],
   "source": [
    "# Create dummy Variable\n",
    "merge_data_df_cat_dummies=pd.get_dummies(merge_data_df_cat)\n",
    "Insurance_data_dummy=pd.concat([merge_data_df_num,merge_data_df_cat_dummies],axis=1)"
   ]
  },
  {
   "cell_type": "code",
   "execution_count": 87,
   "metadata": {
    "collapsed": true
   },
   "outputs": [],
   "source": [
    "#Insurance_Data_dummy.head()"
   ]
  },
  {
   "cell_type": "code",
   "execution_count": 141,
   "metadata": {
    "collapsed": true
   },
   "outputs": [
    {
     "data": {
      "text/plain": [
       "Age                        0\n",
       "Default                    0\n",
       "Balance                    0\n",
       "HHInsurance                0\n",
       "CarLoan                    0\n",
       "LastContactDay             0\n",
       "NoOfContacts               0\n",
       "DaysPassed                 0\n",
       "PrevAttempts               0\n",
       "Job_None                   0\n",
       "Job_admin.                 0\n",
       "Job_blue-collar            0\n",
       "Job_entrepreneur           0\n",
       "Job_housemaid              0\n",
       "Job_management             0\n",
       "Job_retired                0\n",
       "Job_self-employed          0\n",
       "Job_services               0\n",
       "Job_student                0\n",
       "Job_technician             0\n",
       "Job_unemployed             0\n",
       "Marital_divorced           0\n",
       "Marital_married            0\n",
       "Marital_single             0\n",
       "Education_None             0\n",
       "Education_primary          0\n",
       "Education_secondary        0\n",
       "Education_tertiary         0\n",
       "Communication_None         0\n",
       "Communication_cellular     0\n",
       "Communication_telephone    0\n",
       "LastContactMonth_apr       0\n",
       "LastContactMonth_aug       0\n",
       "LastContactMonth_dec       0\n",
       "LastContactMonth_feb       0\n",
       "LastContactMonth_jan       0\n",
       "LastContactMonth_jul       0\n",
       "LastContactMonth_jun       0\n",
       "LastContactMonth_mar       0\n",
       "LastContactMonth_may       0\n",
       "LastContactMonth_nov       0\n",
       "LastContactMonth_oct       0\n",
       "LastContactMonth_sep       0\n",
       "Outcome_NoPrev             0\n",
       "Outcome_failure            0\n",
       "Outcome_other              0\n",
       "Outcome_success            0\n",
       "dtype: int64"
      ]
     },
     "execution_count": 141,
     "metadata": {},
     "output_type": "execute_result"
    }
   ],
   "source": [
    "Insurance_data_dummy.isna().sum() # Checking if we have missing values before training model"
   ]
  },
  {
   "cell_type": "code",
   "execution_count": 89,
   "metadata": {
    "collapsed": true
   },
   "outputs": [],
   "source": [
    "# split Train test using index we created\n",
    "idx=pd.IndexSlice\n",
    "train_df=Insurance_data_dummy.loc[idx[['train',],:]]\n",
    "test_df=Insurance_data_dummy.loc[idx[['test'],:]]"
   ]
  },
  {
   "cell_type": "code",
   "execution_count": 90,
   "metadata": {
    "collapsed": true
   },
   "outputs": [
    {
     "data": {
      "text/plain": [
       "<pandas.core.indexing._IndexSlice at 0x9f76730>"
      ]
     },
     "execution_count": 90,
     "metadata": {},
     "output_type": "execute_result"
    }
   ],
   "source": [
    "idx"
   ]
  },
  {
   "cell_type": "code",
   "execution_count": 91,
   "metadata": {
    "collapsed": true
   },
   "outputs": [
    {
     "name": "stdout",
     "output_type": "stream",
     "text": [
      "(3999, 47)\n",
      "(1000, 47)\n"
     ]
    }
   ],
   "source": [
    "#Creating Label\n",
    "train_label=Insurance_data['CarInsurance']\n",
    "print(train_df.shape)\n",
    "print(test_df.shape)"
   ]
  },
  {
   "cell_type": "markdown",
   "metadata": {},
   "source": [
    "### Splitting the data(train_df)into train test split\n"
   ]
  },
  {
   "cell_type": "code",
   "execution_count": 92,
   "metadata": {
    "collapsed": true
   },
   "outputs": [],
   "source": [
    "x_train,x_test,y_train,y_test=train_test_split(train_df,train_label,train_size=0.7,random_state=100)"
   ]
  },
  {
   "cell_type": "markdown",
   "metadata": {},
   "source": [
    "### Building Logistic Regression Model"
   ]
  },
  {
   "cell_type": "code",
   "execution_count": 93,
   "metadata": {
    "collapsed": true
   },
   "outputs": [],
   "source": [
    "lr=LogisticRegression()"
   ]
  },
  {
   "cell_type": "code",
   "execution_count": 94,
   "metadata": {
    "collapsed": true
   },
   "outputs": [],
   "source": [
    "lr2=LogisticRegression(max_iter=1000)"
   ]
  },
  {
   "cell_type": "code",
   "execution_count": 95,
   "metadata": {
    "collapsed": true
   },
   "outputs": [
    {
     "data": {
      "text/html": [
       "<div>\n",
       "<style scoped>\n",
       "    .dataframe tbody tr th:only-of-type {\n",
       "        vertical-align: middle;\n",
       "    }\n",
       "\n",
       "    .dataframe tbody tr th {\n",
       "        vertical-align: top;\n",
       "    }\n",
       "\n",
       "    .dataframe thead th {\n",
       "        text-align: right;\n",
       "    }\n",
       "</style>\n",
       "<table border=\"1\" class=\"dataframe\">\n",
       "  <thead>\n",
       "    <tr style=\"text-align: right;\">\n",
       "      <th></th>\n",
       "      <th></th>\n",
       "      <th>Age</th>\n",
       "      <th>Default</th>\n",
       "      <th>Balance</th>\n",
       "      <th>HHInsurance</th>\n",
       "      <th>CarLoan</th>\n",
       "      <th>LastContactDay</th>\n",
       "      <th>NoOfContacts</th>\n",
       "      <th>DaysPassed</th>\n",
       "      <th>PrevAttempts</th>\n",
       "      <th>Job_None</th>\n",
       "      <th>...</th>\n",
       "      <th>LastContactMonth_jun</th>\n",
       "      <th>LastContactMonth_mar</th>\n",
       "      <th>LastContactMonth_may</th>\n",
       "      <th>LastContactMonth_nov</th>\n",
       "      <th>LastContactMonth_oct</th>\n",
       "      <th>LastContactMonth_sep</th>\n",
       "      <th>Outcome_NoPrev</th>\n",
       "      <th>Outcome_failure</th>\n",
       "      <th>Outcome_other</th>\n",
       "      <th>Outcome_success</th>\n",
       "    </tr>\n",
       "  </thead>\n",
       "  <tbody>\n",
       "    <tr>\n",
       "      <th rowspan=\"11\" valign=\"top\">train</th>\n",
       "      <th>2472</th>\n",
       "      <td>40</td>\n",
       "      <td>0</td>\n",
       "      <td>-9</td>\n",
       "      <td>1</td>\n",
       "      <td>0</td>\n",
       "      <td>15</td>\n",
       "      <td>2</td>\n",
       "      <td>-1</td>\n",
       "      <td>0</td>\n",
       "      <td>0</td>\n",
       "      <td>...</td>\n",
       "      <td>0</td>\n",
       "      <td>0</td>\n",
       "      <td>1</td>\n",
       "      <td>0</td>\n",
       "      <td>0</td>\n",
       "      <td>0</td>\n",
       "      <td>1</td>\n",
       "      <td>0</td>\n",
       "      <td>0</td>\n",
       "      <td>0</td>\n",
       "    </tr>\n",
       "    <tr>\n",
       "      <th>2191</th>\n",
       "      <td>27</td>\n",
       "      <td>0</td>\n",
       "      <td>311</td>\n",
       "      <td>0</td>\n",
       "      <td>0</td>\n",
       "      <td>2</td>\n",
       "      <td>3</td>\n",
       "      <td>322</td>\n",
       "      <td>1</td>\n",
       "      <td>0</td>\n",
       "      <td>...</td>\n",
       "      <td>0</td>\n",
       "      <td>1</td>\n",
       "      <td>0</td>\n",
       "      <td>0</td>\n",
       "      <td>0</td>\n",
       "      <td>0</td>\n",
       "      <td>0</td>\n",
       "      <td>0</td>\n",
       "      <td>1</td>\n",
       "      <td>0</td>\n",
       "    </tr>\n",
       "    <tr>\n",
       "      <th>1146</th>\n",
       "      <td>38</td>\n",
       "      <td>0</td>\n",
       "      <td>19</td>\n",
       "      <td>1</td>\n",
       "      <td>0</td>\n",
       "      <td>30</td>\n",
       "      <td>2</td>\n",
       "      <td>-1</td>\n",
       "      <td>0</td>\n",
       "      <td>0</td>\n",
       "      <td>...</td>\n",
       "      <td>0</td>\n",
       "      <td>0</td>\n",
       "      <td>1</td>\n",
       "      <td>0</td>\n",
       "      <td>0</td>\n",
       "      <td>0</td>\n",
       "      <td>1</td>\n",
       "      <td>0</td>\n",
       "      <td>0</td>\n",
       "      <td>0</td>\n",
       "    </tr>\n",
       "    <tr>\n",
       "      <th>3355</th>\n",
       "      <td>40</td>\n",
       "      <td>0</td>\n",
       "      <td>35</td>\n",
       "      <td>0</td>\n",
       "      <td>0</td>\n",
       "      <td>3</td>\n",
       "      <td>4</td>\n",
       "      <td>317</td>\n",
       "      <td>3</td>\n",
       "      <td>0</td>\n",
       "      <td>...</td>\n",
       "      <td>0</td>\n",
       "      <td>0</td>\n",
       "      <td>0</td>\n",
       "      <td>0</td>\n",
       "      <td>0</td>\n",
       "      <td>0</td>\n",
       "      <td>0</td>\n",
       "      <td>1</td>\n",
       "      <td>0</td>\n",
       "      <td>0</td>\n",
       "    </tr>\n",
       "    <tr>\n",
       "      <th>3926</th>\n",
       "      <td>46</td>\n",
       "      <td>0</td>\n",
       "      <td>57</td>\n",
       "      <td>0</td>\n",
       "      <td>0</td>\n",
       "      <td>28</td>\n",
       "      <td>1</td>\n",
       "      <td>-1</td>\n",
       "      <td>0</td>\n",
       "      <td>0</td>\n",
       "      <td>...</td>\n",
       "      <td>0</td>\n",
       "      <td>0</td>\n",
       "      <td>1</td>\n",
       "      <td>0</td>\n",
       "      <td>0</td>\n",
       "      <td>0</td>\n",
       "      <td>1</td>\n",
       "      <td>0</td>\n",
       "      <td>0</td>\n",
       "      <td>0</td>\n",
       "    </tr>\n",
       "    <tr>\n",
       "      <th>...</th>\n",
       "      <td>...</td>\n",
       "      <td>...</td>\n",
       "      <td>...</td>\n",
       "      <td>...</td>\n",
       "      <td>...</td>\n",
       "      <td>...</td>\n",
       "      <td>...</td>\n",
       "      <td>...</td>\n",
       "      <td>...</td>\n",
       "      <td>...</td>\n",
       "      <td>...</td>\n",
       "      <td>...</td>\n",
       "      <td>...</td>\n",
       "      <td>...</td>\n",
       "      <td>...</td>\n",
       "      <td>...</td>\n",
       "      <td>...</td>\n",
       "      <td>...</td>\n",
       "      <td>...</td>\n",
       "      <td>...</td>\n",
       "      <td>...</td>\n",
       "    </tr>\n",
       "    <tr>\n",
       "      <th>3928</th>\n",
       "      <td>69</td>\n",
       "      <td>0</td>\n",
       "      <td>482</td>\n",
       "      <td>0</td>\n",
       "      <td>0</td>\n",
       "      <td>2</td>\n",
       "      <td>2</td>\n",
       "      <td>-1</td>\n",
       "      <td>0</td>\n",
       "      <td>0</td>\n",
       "      <td>...</td>\n",
       "      <td>0</td>\n",
       "      <td>0</td>\n",
       "      <td>0</td>\n",
       "      <td>0</td>\n",
       "      <td>0</td>\n",
       "      <td>0</td>\n",
       "      <td>1</td>\n",
       "      <td>0</td>\n",
       "      <td>0</td>\n",
       "      <td>0</td>\n",
       "    </tr>\n",
       "    <tr>\n",
       "      <th>3944</th>\n",
       "      <td>45</td>\n",
       "      <td>0</td>\n",
       "      <td>3133</td>\n",
       "      <td>1</td>\n",
       "      <td>1</td>\n",
       "      <td>10</td>\n",
       "      <td>1</td>\n",
       "      <td>-1</td>\n",
       "      <td>0</td>\n",
       "      <td>0</td>\n",
       "      <td>...</td>\n",
       "      <td>0</td>\n",
       "      <td>0</td>\n",
       "      <td>0</td>\n",
       "      <td>0</td>\n",
       "      <td>0</td>\n",
       "      <td>0</td>\n",
       "      <td>1</td>\n",
       "      <td>0</td>\n",
       "      <td>0</td>\n",
       "      <td>0</td>\n",
       "    </tr>\n",
       "    <tr>\n",
       "      <th>1860</th>\n",
       "      <td>69</td>\n",
       "      <td>0</td>\n",
       "      <td>1080</td>\n",
       "      <td>0</td>\n",
       "      <td>0</td>\n",
       "      <td>18</td>\n",
       "      <td>2</td>\n",
       "      <td>118</td>\n",
       "      <td>2</td>\n",
       "      <td>0</td>\n",
       "      <td>...</td>\n",
       "      <td>0</td>\n",
       "      <td>0</td>\n",
       "      <td>0</td>\n",
       "      <td>0</td>\n",
       "      <td>0</td>\n",
       "      <td>0</td>\n",
       "      <td>0</td>\n",
       "      <td>1</td>\n",
       "      <td>0</td>\n",
       "      <td>0</td>\n",
       "    </tr>\n",
       "    <tr>\n",
       "      <th>2841</th>\n",
       "      <td>46</td>\n",
       "      <td>0</td>\n",
       "      <td>4</td>\n",
       "      <td>0</td>\n",
       "      <td>0</td>\n",
       "      <td>8</td>\n",
       "      <td>4</td>\n",
       "      <td>-1</td>\n",
       "      <td>0</td>\n",
       "      <td>0</td>\n",
       "      <td>...</td>\n",
       "      <td>0</td>\n",
       "      <td>0</td>\n",
       "      <td>0</td>\n",
       "      <td>0</td>\n",
       "      <td>0</td>\n",
       "      <td>0</td>\n",
       "      <td>1</td>\n",
       "      <td>0</td>\n",
       "      <td>0</td>\n",
       "      <td>0</td>\n",
       "    </tr>\n",
       "    <tr>\n",
       "      <th>1544</th>\n",
       "      <td>40</td>\n",
       "      <td>0</td>\n",
       "      <td>27</td>\n",
       "      <td>0</td>\n",
       "      <td>0</td>\n",
       "      <td>20</td>\n",
       "      <td>2</td>\n",
       "      <td>-1</td>\n",
       "      <td>0</td>\n",
       "      <td>0</td>\n",
       "      <td>...</td>\n",
       "      <td>0</td>\n",
       "      <td>0</td>\n",
       "      <td>0</td>\n",
       "      <td>0</td>\n",
       "      <td>0</td>\n",
       "      <td>0</td>\n",
       "      <td>1</td>\n",
       "      <td>0</td>\n",
       "      <td>0</td>\n",
       "      <td>0</td>\n",
       "    </tr>\n",
       "  </tbody>\n",
       "</table>\n",
       "<p>2799 rows × 47 columns</p>\n",
       "</div>"
      ],
      "text/plain": [
       "            Age  Default  Balance  HHInsurance  CarLoan  LastContactDay  \\\n",
       "train 2472   40        0       -9            1        0              15   \n",
       "      2191   27        0      311            0        0               2   \n",
       "      1146   38        0       19            1        0              30   \n",
       "      3355   40        0       35            0        0               3   \n",
       "      3926   46        0       57            0        0              28   \n",
       "...         ...      ...      ...          ...      ...             ...   \n",
       "      3928   69        0      482            0        0               2   \n",
       "      3944   45        0     3133            1        1              10   \n",
       "      1860   69        0     1080            0        0              18   \n",
       "      2841   46        0        4            0        0               8   \n",
       "      1544   40        0       27            0        0              20   \n",
       "\n",
       "            NoOfContacts  DaysPassed  PrevAttempts  Job_None  ...  \\\n",
       "train 2472             2          -1             0         0  ...   \n",
       "      2191             3         322             1         0  ...   \n",
       "      1146             2          -1             0         0  ...   \n",
       "      3355             4         317             3         0  ...   \n",
       "      3926             1          -1             0         0  ...   \n",
       "...                  ...         ...           ...       ...  ...   \n",
       "      3928             2          -1             0         0  ...   \n",
       "      3944             1          -1             0         0  ...   \n",
       "      1860             2         118             2         0  ...   \n",
       "      2841             4          -1             0         0  ...   \n",
       "      1544             2          -1             0         0  ...   \n",
       "\n",
       "            LastContactMonth_jun  LastContactMonth_mar  LastContactMonth_may  \\\n",
       "train 2472                     0                     0                     1   \n",
       "      2191                     0                     1                     0   \n",
       "      1146                     0                     0                     1   \n",
       "      3355                     0                     0                     0   \n",
       "      3926                     0                     0                     1   \n",
       "...                          ...                   ...                   ...   \n",
       "      3928                     0                     0                     0   \n",
       "      3944                     0                     0                     0   \n",
       "      1860                     0                     0                     0   \n",
       "      2841                     0                     0                     0   \n",
       "      1544                     0                     0                     0   \n",
       "\n",
       "            LastContactMonth_nov  LastContactMonth_oct  LastContactMonth_sep  \\\n",
       "train 2472                     0                     0                     0   \n",
       "      2191                     0                     0                     0   \n",
       "      1146                     0                     0                     0   \n",
       "      3355                     0                     0                     0   \n",
       "      3926                     0                     0                     0   \n",
       "...                          ...                   ...                   ...   \n",
       "      3928                     0                     0                     0   \n",
       "      3944                     0                     0                     0   \n",
       "      1860                     0                     0                     0   \n",
       "      2841                     0                     0                     0   \n",
       "      1544                     0                     0                     0   \n",
       "\n",
       "            Outcome_NoPrev  Outcome_failure  Outcome_other  Outcome_success  \n",
       "train 2472               1                0              0                0  \n",
       "      2191               0                0              1                0  \n",
       "      1146               1                0              0                0  \n",
       "      3355               0                1              0                0  \n",
       "      3926               1                0              0                0  \n",
       "...                    ...              ...            ...              ...  \n",
       "      3928               1                0              0                0  \n",
       "      3944               1                0              0                0  \n",
       "      1860               0                1              0                0  \n",
       "      2841               1                0              0                0  \n",
       "      1544               1                0              0                0  \n",
       "\n",
       "[2799 rows x 47 columns]"
      ]
     },
     "execution_count": 95,
     "metadata": {},
     "output_type": "execute_result"
    }
   ],
   "source": [
    "x_train"
   ]
  },
  {
   "cell_type": "code",
   "execution_count": 96,
   "metadata": {
    "collapsed": true
   },
   "outputs": [
    {
     "data": {
      "text/plain": [
       "2472    1\n",
       "2191    1\n",
       "1146    1\n",
       "3355    0\n",
       "3926    1\n",
       "       ..\n",
       "3928    1\n",
       "3944    1\n",
       "1860    0\n",
       "2841    1\n",
       "1544    1\n",
       "Name: CarInsurance, Length: 2799, dtype: int64"
      ]
     },
     "execution_count": 96,
     "metadata": {},
     "output_type": "execute_result"
    }
   ],
   "source": [
    "y_train"
   ]
  },
  {
   "cell_type": "code",
   "execution_count": 97,
   "metadata": {
    "collapsed": true
   },
   "outputs": [
    {
     "name": "stderr",
     "output_type": "stream",
     "text": [
      "C:\\Users\\sasai\\anaconda3\\lib\\site-packages\\sklearn\\linear_model\\_logistic.py:763: ConvergenceWarning: lbfgs failed to converge (status=1):\n",
      "STOP: TOTAL NO. of ITERATIONS REACHED LIMIT.\n",
      "\n",
      "Increase the number of iterations (max_iter) or scale the data as shown in:\n",
      "    https://scikit-learn.org/stable/modules/preprocessing.html\n",
      "Please also refer to the documentation for alternative solver options:\n",
      "    https://scikit-learn.org/stable/modules/linear_model.html#logistic-regression\n",
      "  n_iter_i = _check_optimize_result(\n"
     ]
    },
    {
     "data": {
      "text/plain": [
       "LogisticRegression()"
      ]
     },
     "execution_count": 97,
     "metadata": {},
     "output_type": "execute_result"
    }
   ],
   "source": [
    "# fit the model\n",
    "lr.fit(x_train,y_train)"
   ]
  },
  {
   "cell_type": "code",
   "execution_count": 98,
   "metadata": {
    "collapsed": true
   },
   "outputs": [
    {
     "data": {
      "text/plain": [
       "LogisticRegression(max_iter=1000)"
      ]
     },
     "execution_count": 98,
     "metadata": {},
     "output_type": "execute_result"
    }
   ],
   "source": [
    "# fit the model\n",
    "lr2.fit(x_train,y_train)"
   ]
  },
  {
   "cell_type": "code",
   "execution_count": 99,
   "metadata": {
    "collapsed": true
   },
   "outputs": [],
   "source": [
    "#making predictions using data\n",
    "y_pred = lr.predict(x_test)"
   ]
  },
  {
   "cell_type": "code",
   "execution_count": 100,
   "metadata": {
    "collapsed": true
   },
   "outputs": [],
   "source": [
    "y_pred2=lr2.predict(x_test)"
   ]
  },
  {
   "cell_type": "code",
   "execution_count": 101,
   "metadata": {
    "collapsed": true
   },
   "outputs": [
    {
     "data": {
      "text/plain": [
       "array([0, 0, 0, ..., 1, 0, 0], dtype=int64)"
      ]
     },
     "execution_count": 101,
     "metadata": {},
     "output_type": "execute_result"
    }
   ],
   "source": [
    "y_pred # prediction for test data"
   ]
  },
  {
   "cell_type": "code",
   "execution_count": 102,
   "metadata": {
    "collapsed": true
   },
   "outputs": [],
   "source": [
    "#getting model performance metrics\n",
    "from sklearn.metrics import accuracy_score, precision_score, recall_score, confusion_matrix, roc_auc_score"
   ]
  },
  {
   "cell_type": "code",
   "execution_count": 103,
   "metadata": {
    "collapsed": true
   },
   "outputs": [
    {
     "data": {
      "text/plain": [
       "array([[612, 115],\n",
       "       [274, 199]], dtype=int64)"
      ]
     },
     "execution_count": 103,
     "metadata": {},
     "output_type": "execute_result"
    }
   ],
   "source": [
    "confusion_matrix(y_test,y_pred)"
   ]
  },
  {
   "cell_type": "code",
   "execution_count": 104,
   "metadata": {
    "collapsed": true
   },
   "outputs": [
    {
     "data": {
      "text/plain": [
       "array([[626, 101],\n",
       "       [238, 235]], dtype=int64)"
      ]
     },
     "execution_count": 104,
     "metadata": {},
     "output_type": "execute_result"
    }
   ],
   "source": [
    "confusion_matrix(y_test,y_pred2)"
   ]
  },
  {
   "cell_type": "code",
   "execution_count": 105,
   "metadata": {
    "collapsed": true
   },
   "outputs": [],
   "source": [
    "from sklearn.metrics import f1_score"
   ]
  },
  {
   "cell_type": "code",
   "execution_count": 106,
   "metadata": {
    "collapsed": true
   },
   "outputs": [
    {
     "data": {
      "text/plain": [
       "0.50571791613723"
      ]
     },
     "execution_count": 106,
     "metadata": {},
     "output_type": "execute_result"
    }
   ],
   "source": [
    "f1_score(y_test,y_pred)"
   ]
  },
  {
   "cell_type": "code",
   "execution_count": 107,
   "metadata": {
    "collapsed": true
   },
   "outputs": [
    {
     "data": {
      "text/plain": [
       "0.5809641532756489"
      ]
     },
     "execution_count": 107,
     "metadata": {},
     "output_type": "execute_result"
    }
   ],
   "source": [
    "f1_score(y_test,y_pred2)"
   ]
  },
  {
   "cell_type": "code",
   "execution_count": 108,
   "metadata": {
    "collapsed": true
   },
   "outputs": [
    {
     "data": {
      "text/plain": [
       "0.6758333333333333"
      ]
     },
     "execution_count": 108,
     "metadata": {},
     "output_type": "execute_result"
    }
   ],
   "source": [
    "accuracy_score(y_test,y_pred)"
   ]
  },
  {
   "cell_type": "code",
   "execution_count": 109,
   "metadata": {
    "collapsed": true
   },
   "outputs": [
    {
     "data": {
      "text/plain": [
       "0.7175"
      ]
     },
     "execution_count": 109,
     "metadata": {},
     "output_type": "execute_result"
    }
   ],
   "source": [
    "accuracy_score(y_test,y_pred2)"
   ]
  },
  {
   "cell_type": "code",
   "execution_count": 110,
   "metadata": {
    "collapsed": true
   },
   "outputs": [
    {
     "data": {
      "text/plain": [
       "0.6337579617834395"
      ]
     },
     "execution_count": 110,
     "metadata": {},
     "output_type": "execute_result"
    }
   ],
   "source": [
    "precision_score(y_test,y_pred)"
   ]
  },
  {
   "cell_type": "code",
   "execution_count": 111,
   "metadata": {
    "collapsed": true
   },
   "outputs": [
    {
     "data": {
      "text/plain": [
       "0.6994047619047619"
      ]
     },
     "execution_count": 111,
     "metadata": {},
     "output_type": "execute_result"
    }
   ],
   "source": [
    "precision_score(y_test,y_pred2)"
   ]
  },
  {
   "cell_type": "code",
   "execution_count": 112,
   "metadata": {
    "collapsed": true
   },
   "outputs": [
    {
     "data": {
      "text/plain": [
       "0.42071881606765327"
      ]
     },
     "execution_count": 112,
     "metadata": {},
     "output_type": "execute_result"
    }
   ],
   "source": [
    "recall_score(y_test,y_pred)"
   ]
  },
  {
   "cell_type": "code",
   "execution_count": 1,
   "metadata": {
    "collapsed": true
   },
   "outputs": [
    {
     "ename": "NameError",
     "evalue": "name 'recall_score' is not defined",
     "output_type": "error",
     "traceback": [
      "\u001b[1;31m---------------------------------------------------------------------------\u001b[0m",
      "\u001b[1;31mNameError\u001b[0m                                 Traceback (most recent call last)",
      "\u001b[1;32m<ipython-input-1-5c76c1a9557d>\u001b[0m in \u001b[0;36m<module>\u001b[1;34m\u001b[0m\n\u001b[1;32m----> 1\u001b[1;33m \u001b[0mrecall_score\u001b[0m\u001b[1;33m(\u001b[0m\u001b[0my_test\u001b[0m\u001b[1;33m,\u001b[0m\u001b[0my_pred2\u001b[0m\u001b[1;33m)\u001b[0m\u001b[1;33m\u001b[0m\u001b[1;33m\u001b[0m\u001b[0m\n\u001b[0m",
      "\u001b[1;31mNameError\u001b[0m: name 'recall_score' is not defined"
     ]
    }
   ],
   "source": [
    "recall_score(y_test,y_pred2)"
   ]
  },
  {
   "cell_type": "code",
   "execution_count": 113,
   "metadata": {
    "collapsed": true
   },
   "outputs": [
    {
     "data": {
      "text/plain": [
       "0.6312672484739917"
      ]
     },
     "execution_count": 113,
     "metadata": {},
     "output_type": "execute_result"
    }
   ],
   "source": [
    "roc_auc_score(y_test,y_pred)"
   ]
  },
  {
   "cell_type": "code",
   "execution_count": 114,
   "metadata": {
    "collapsed": true
   },
   "outputs": [
    {
     "data": {
      "text/plain": [
       "0.6789508274905415"
      ]
     },
     "execution_count": 114,
     "metadata": {},
     "output_type": "execute_result"
    }
   ],
   "source": [
    "roc_auc_score(y_test,y_pred2)"
   ]
  },
  {
   "cell_type": "markdown",
   "metadata": {},
   "source": [
    "### standardize and scale continuous variables\n",
    "### apply polynomial transformation\n",
    "### perform ridge regression"
   ]
  },
  {
   "cell_type": "code",
   "execution_count": 115,
   "metadata": {
    "collapsed": true
   },
   "outputs": [
    {
     "data": {
      "text/plain": [
       "(2799, 47)"
      ]
     },
     "execution_count": 115,
     "metadata": {},
     "output_type": "execute_result"
    }
   ],
   "source": [
    "x_train.shape"
   ]
  },
  {
   "cell_type": "code",
   "execution_count": 116,
   "metadata": {
    "collapsed": true
   },
   "outputs": [
    {
     "data": {
      "text/plain": [
       "(2799,)"
      ]
     },
     "execution_count": 116,
     "metadata": {},
     "output_type": "execute_result"
    }
   ],
   "source": [
    "y_train.shape"
   ]
  },
  {
   "cell_type": "code",
   "execution_count": 117,
   "metadata": {
    "collapsed": true
   },
   "outputs": [
    {
     "data": {
      "text/plain": [
       "pandas.core.series.Series"
      ]
     },
     "execution_count": 117,
     "metadata": {},
     "output_type": "execute_result"
    }
   ],
   "source": [
    "type(y_train)"
   ]
  },
  {
   "cell_type": "code",
   "execution_count": 118,
   "metadata": {
    "collapsed": true
   },
   "outputs": [
    {
     "data": {
      "text/plain": [
       "pandas.core.frame.DataFrame"
      ]
     },
     "execution_count": 118,
     "metadata": {},
     "output_type": "execute_result"
    }
   ],
   "source": [
    "type(x_train)"
   ]
  },
  {
   "cell_type": "code",
   "execution_count": 119,
   "metadata": {
    "collapsed": true
   },
   "outputs": [],
   "source": [
    "y_arr = np.asarray(y_train)"
   ]
  },
  {
   "cell_type": "code",
   "execution_count": 120,
   "metadata": {
    "collapsed": true
   },
   "outputs": [],
   "source": [
    "x_arr = np.asarray(x_train)"
   ]
  },
  {
   "cell_type": "code",
   "execution_count": 121,
   "metadata": {
    "collapsed": true
   },
   "outputs": [],
   "source": [
    "logit_mod2 = sm.Logit(y_arr,x_arr)"
   ]
  },
  {
   "cell_type": "code",
   "execution_count": 122,
   "metadata": {
    "collapsed": true
   },
   "outputs": [
    {
     "name": "stdout",
     "output_type": "stream",
     "text": [
      "Optimization terminated successfully.\n",
      "         Current function value: 0.562245\n",
      "         Iterations 8\n"
     ]
    }
   ],
   "source": [
    "result2 = logit_mod2.fit()"
   ]
  },
  {
   "cell_type": "code",
   "execution_count": 123,
   "metadata": {
    "collapsed": true
   },
   "outputs": [
    {
     "data": {
      "text/html": [
       "<table class=\"simpletable\">\n",
       "<tr>\n",
       "        <td>Model:</td>              <td>Logit</td>      <td>Pseudo R-squared:</td>    <td>0.167</td>   \n",
       "</tr>\n",
       "<tr>\n",
       "  <td>Dependent Variable:</td>         <td>y</td>              <td>AIC:</td>         <td>3231.4469</td> \n",
       "</tr>\n",
       "<tr>\n",
       "         <td>Date:</td>        <td>2021-09-06 20:10</td>       <td>BIC:</td>         <td>3480.8017</td> \n",
       "</tr>\n",
       "<tr>\n",
       "   <td>No. Observations:</td>        <td>2799</td>        <td>Log-Likelihood:</td>    <td>-1573.7</td>  \n",
       "</tr>\n",
       "<tr>\n",
       "       <td>Df Model:</td>             <td>41</td>            <td>LL-Null:</td>        <td>-1888.3</td>  \n",
       "</tr>\n",
       "<tr>\n",
       "     <td>Df Residuals:</td>          <td>2757</td>         <td>LLR p-value:</td>    <td>2.4411e-106</td>\n",
       "</tr>\n",
       "<tr>\n",
       "      <td>Converged:</td>           <td>1.0000</td>           <td>Scale:</td>         <td>1.0000</td>   \n",
       "</tr>\n",
       "<tr>\n",
       "    <td>No. Iterations:</td>        <td>8.0000</td>              <td></td>               <td></td>      \n",
       "</tr>\n",
       "</table>\n",
       "<table class=\"simpletable\">\n",
       "<tr>\n",
       "   <td></td>    <th>Coef.</th>    <th>Std.Err.</th>       <th>z</th>     <th>P>|z|</th>     <th>[0.025</th>        <th>0.975]</th>    \n",
       "</tr>\n",
       "<tr>\n",
       "  <th>x1</th>  <td>0.0046</td>     <td>0.0052</td>     <td>0.8935</td>  <td>0.3716</td>     <td>-0.0055</td>       <td>0.0147</td>    \n",
       "</tr>\n",
       "<tr>\n",
       "  <th>x2</th>  <td>-0.2270</td>    <td>0.3855</td>     <td>-0.5888</td> <td>0.5560</td>     <td>-0.9826</td>       <td>0.5286</td>    \n",
       "</tr>\n",
       "<tr>\n",
       "  <th>x3</th>  <td>0.0000</td>     <td>0.0000</td>     <td>0.2359</td>  <td>0.8135</td>     <td>-0.0000</td>       <td>0.0000</td>    \n",
       "</tr>\n",
       "<tr>\n",
       "  <th>x4</th>  <td>-0.5830</td>    <td>0.1016</td>     <td>-5.7409</td> <td>0.0000</td>     <td>-0.7820</td>       <td>-0.3840</td>   \n",
       "</tr>\n",
       "<tr>\n",
       "  <th>x5</th>  <td>-0.2016</td>    <td>0.1383</td>     <td>-1.4574</td> <td>0.1450</td>     <td>-0.4727</td>       <td>0.0695</td>    \n",
       "</tr>\n",
       "<tr>\n",
       "  <th>x6</th>  <td>-0.0015</td>    <td>0.0060</td>     <td>-0.2431</td> <td>0.8080</td>     <td>-0.0132</td>       <td>0.0103</td>    \n",
       "</tr>\n",
       "<tr>\n",
       "  <th>x7</th>  <td>-0.0631</td>    <td>0.0187</td>     <td>-3.3777</td> <td>0.0007</td>     <td>-0.0997</td>       <td>-0.0265</td>   \n",
       "</tr>\n",
       "<tr>\n",
       "  <th>x8</th>  <td>0.0006</td>     <td>0.0008</td>     <td>0.8102</td>  <td>0.4178</td>     <td>-0.0009</td>       <td>0.0022</td>    \n",
       "</tr>\n",
       "<tr>\n",
       "  <th>x9</th>  <td>0.0698</td>     <td>0.0327</td>     <td>2.1350</td>  <td>0.0328</td>     <td>0.0057</td>        <td>0.1339</td>    \n",
       "</tr>\n",
       "<tr>\n",
       "  <th>x10</th> <td>0.2118</td>  <td>8175638.3640</td>  <td>0.0000</td>  <td>1.0000</td> <td>-16023956.5323</td> <td>16023956.9558</td>\n",
       "</tr>\n",
       "<tr>\n",
       "  <th>x11</th> <td>0.1280</td>  <td>9995377.0182</td>  <td>0.0000</td>  <td>1.0000</td> <td>-19590578.8396</td> <td>19590579.0956</td>\n",
       "</tr>\n",
       "<tr>\n",
       "  <th>x12</th> <td>0.0823</td>  <td>11555110.1947</td> <td>0.0000</td>  <td>1.0000</td> <td>-22647599.7367</td> <td>22647599.9013</td>\n",
       "</tr>\n",
       "<tr>\n",
       "  <th>x13</th> <td>-0.3292</td> <td>9895348.1673</td>  <td>-0.0000</td> <td>1.0000</td> <td>-19394526.3516</td> <td>19394525.6932</td>\n",
       "</tr>\n",
       "<tr>\n",
       "  <th>x14</th> <td>-0.2540</td> <td>7939369.6610</td>  <td>-0.0000</td> <td>1.0000</td> <td>-15560878.8495</td> <td>15560878.3416</td>\n",
       "</tr>\n",
       "<tr>\n",
       "  <th>x15</th> <td>-0.0559</td> <td>9532946.6442</td>  <td>-0.0000</td> <td>1.0000</td> <td>-18684232.1451</td> <td>18684232.0333</td>\n",
       "</tr>\n",
       "<tr>\n",
       "  <th>x16</th> <td>0.3140</td>  <td>11154683.7581</td> <td>0.0000</td>  <td>1.0000</td> <td>-21862778.1108</td> <td>21862778.7387</td>\n",
       "</tr>\n",
       "<tr>\n",
       "  <th>x17</th> <td>-0.3531</td> <td>9877278.7123</td>  <td>-0.0000</td> <td>1.0000</td> <td>-19359110.8945</td> <td>19359110.1883</td>\n",
       "</tr>\n",
       "<tr>\n",
       "  <th>x18</th> <td>0.0496</td>  <td>9793459.5767</td>  <td>0.0000</td>  <td>1.0000</td> <td>-19194828.0048</td> <td>19194828.1041</td>\n",
       "</tr>\n",
       "<tr>\n",
       "  <th>x19</th> <td>0.5631</td>  <td>9523379.3029</td>  <td>0.0000</td>  <td>1.0000</td> <td>-18665479.8817</td> <td>18665481.0080</td>\n",
       "</tr>\n",
       "<tr>\n",
       "  <th>x20</th> <td>0.0243</td>  <td>8662709.2359</td>  <td>0.0000</td>  <td>1.0000</td> <td>-16978598.0867</td> <td>16978598.1352</td>\n",
       "</tr>\n",
       "<tr>\n",
       "  <th>x21</th> <td>0.4641</td>  <td>10456507.0544</td> <td>0.0000</td>  <td>1.0000</td> <td>-20494376.7665</td> <td>20494377.6947</td>\n",
       "</tr>\n",
       "<tr>\n",
       "  <th>x22</th> <td>0.2802</td>       <td>nan</td>        <td>nan</td>     <td>nan</td>        <td>nan</td>           <td>nan</td>     \n",
       "</tr>\n",
       "<tr>\n",
       "  <th>x23</th> <td>-0.1812</td>      <td>nan</td>        <td>nan</td>     <td>nan</td>        <td>nan</td>           <td>nan</td>     \n",
       "</tr>\n",
       "<tr>\n",
       "  <th>x24</th> <td>0.1598</td>  <td>1959469.6797</td>  <td>0.0000</td>  <td>1.0000</td>  <td>-3840489.8413</td> <td>3840490.1609</td> \n",
       "</tr>\n",
       "<tr>\n",
       "  <th>x25</th> <td>-0.0209</td> <td>2147033.7207</td>  <td>-0.0000</td> <td>1.0000</td>  <td>-4208108.7871</td> <td>4208108.7452</td> \n",
       "</tr>\n",
       "<tr>\n",
       "  <th>x26</th> <td>-0.1144</td> <td>2570028.5485</td>  <td>-0.0000</td> <td>1.0000</td>  <td>-5037163.5088</td> <td>5037163.2800</td> \n",
       "</tr>\n",
       "<tr>\n",
       "  <th>x27</th> <td>-0.2137</td> <td>2783349.3916</td>  <td>-0.0000</td> <td>1.0000</td>  <td>-5455264.7777</td> <td>5455264.3503</td> \n",
       "</tr>\n",
       "<tr>\n",
       "  <th>x28</th> <td>0.1861</td>  <td>2580299.1665</td>  <td>0.0000</td>  <td>1.0000</td>  <td>-5057293.2497</td> <td>5057293.6218</td> \n",
       "</tr>\n",
       "<tr>\n",
       "  <th>x29</th> <td>-0.6975</td>      <td>nan</td>        <td>nan</td>     <td>nan</td>        <td>nan</td>           <td>nan</td>     \n",
       "</tr>\n",
       "<tr>\n",
       "  <th>x30</th> <td>0.4817</td>       <td>nan</td>        <td>nan</td>     <td>nan</td>        <td>nan</td>           <td>nan</td>     \n",
       "</tr>\n",
       "<tr>\n",
       "  <th>x31</th> <td>0.3897</td>       <td>nan</td>        <td>nan</td>     <td>nan</td>        <td>nan</td>           <td>nan</td>     \n",
       "</tr>\n",
       "<tr>\n",
       "  <th>x32</th> <td>-0.0031</td> <td>3999581.3756</td>  <td>-0.0000</td> <td>1.0000</td>  <td>-7839035.4524</td> <td>7839035.4463</td> \n",
       "</tr>\n",
       "<tr>\n",
       "  <th>x33</th> <td>-0.7322</td> <td>3998683.2996</td>  <td>-0.0000</td> <td>1.0000</td>  <td>-7837275.9849</td> <td>7837274.5206</td> \n",
       "</tr>\n",
       "<tr>\n",
       "  <th>x34</th> <td>0.7718</td>  <td>4000479.2500</td>  <td>0.0000</td>  <td>1.0000</td>  <td>-7840794.4790</td> <td>7840796.0226</td> \n",
       "</tr>\n",
       "<tr>\n",
       "  <th>x35</th> <td>-0.3070</td> <td>3998683.2996</td>  <td>-0.0000</td> <td>1.0000</td>  <td>-7837275.5597</td> <td>7837274.9458</td> \n",
       "</tr>\n",
       "<tr>\n",
       "  <th>x36</th> <td>-1.0749</td> <td>3997785.0218</td>  <td>-0.0000</td> <td>1.0000</td>  <td>-7835515.7357</td> <td>7835513.5858</td> \n",
       "</tr>\n",
       "<tr>\n",
       "  <th>x37</th> <td>-0.4410</td> <td>3999581.3756</td>  <td>-0.0000</td> <td>1.0000</td>  <td>-7839035.8903</td> <td>7839035.0084</td> \n",
       "</tr>\n",
       "<tr>\n",
       "  <th>x38</th> <td>0.1597</td>  <td>3998683.2996</td>  <td>0.0000</td>  <td>1.0000</td>  <td>-7837275.0931</td> <td>7837275.4124</td> \n",
       "</tr>\n",
       "<tr>\n",
       "  <th>x39</th> <td>1.1095</td>  <td>3999581.3756</td>  <td>0.0000</td>  <td>1.0000</td>  <td>-7839034.3399</td> <td>7839036.5588</td> \n",
       "</tr>\n",
       "<tr>\n",
       "  <th>x40</th> <td>-0.2897</td> <td>3998683.2996</td>  <td>-0.0000</td> <td>1.0000</td>  <td>-7837275.5424</td> <td>7837274.9631</td> \n",
       "</tr>\n",
       "<tr>\n",
       "  <th>x41</th> <td>-0.6775</td> <td>4000479.2500</td>  <td>-0.0000</td> <td>1.0000</td>  <td>-7840795.9283</td> <td>7840794.5733</td> \n",
       "</tr>\n",
       "<tr>\n",
       "  <th>x42</th> <td>0.9774</td>  <td>3999581.3756</td>  <td>0.0000</td>  <td>1.0000</td>  <td>-7839034.4719</td> <td>7839036.4268</td> \n",
       "</tr>\n",
       "<tr>\n",
       "  <th>x43</th> <td>0.6809</td>  <td>3999581.3756</td>  <td>0.0000</td>  <td>1.0000</td>  <td>-7839034.7685</td> <td>7839036.1302</td> \n",
       "</tr>\n",
       "<tr>\n",
       "  <th>x44</th> <td>-0.1578</td>      <td>nan</td>        <td>nan</td>     <td>nan</td>        <td>nan</td>           <td>nan</td>     \n",
       "</tr>\n",
       "<tr>\n",
       "  <th>x45</th> <td>-0.5875</td>      <td>nan</td>        <td>nan</td>     <td>nan</td>        <td>nan</td>           <td>nan</td>     \n",
       "</tr>\n",
       "<tr>\n",
       "  <th>x46</th> <td>-0.6749</td>      <td>nan</td>        <td>nan</td>     <td>nan</td>        <td>nan</td>           <td>nan</td>     \n",
       "</tr>\n",
       "<tr>\n",
       "  <th>x47</th> <td>1.5941</td>       <td>nan</td>        <td>nan</td>     <td>nan</td>        <td>nan</td>           <td>nan</td>     \n",
       "</tr>\n",
       "</table>"
      ],
      "text/plain": [
       "<class 'statsmodels.iolib.summary2.Summary'>\n",
       "\"\"\"\n",
       "                           Results: Logit\n",
       "=====================================================================\n",
       "Model:               Logit             Pseudo R-squared:  0.167      \n",
       "Dependent Variable:  y                 AIC:               3231.4469  \n",
       "Date:                2021-09-06 20:10  BIC:               3480.8017  \n",
       "No. Observations:    2799              Log-Likelihood:    -1573.7    \n",
       "Df Model:            41                LL-Null:           -1888.3    \n",
       "Df Residuals:        2757              LLR p-value:       2.4411e-106\n",
       "Converged:           1.0000            Scale:             1.0000     \n",
       "No. Iterations:      8.0000                                          \n",
       "---------------------------------------------------------------------\n",
       "     Coef.     Std.Err.      z    P>|z|      [0.025         0.975]   \n",
       "---------------------------------------------------------------------\n",
       "x1   0.0046        0.0052  0.8935 0.3716        -0.0055        0.0147\n",
       "x2  -0.2270        0.3855 -0.5888 0.5560        -0.9826        0.5286\n",
       "x3   0.0000        0.0000  0.2359 0.8135        -0.0000        0.0000\n",
       "x4  -0.5830        0.1016 -5.7409 0.0000        -0.7820       -0.3840\n",
       "x5  -0.2016        0.1383 -1.4574 0.1450        -0.4727        0.0695\n",
       "x6  -0.0015        0.0060 -0.2431 0.8080        -0.0132        0.0103\n",
       "x7  -0.0631        0.0187 -3.3777 0.0007        -0.0997       -0.0265\n",
       "x8   0.0006        0.0008  0.8102 0.4178        -0.0009        0.0022\n",
       "x9   0.0698        0.0327  2.1350 0.0328         0.0057        0.1339\n",
       "x10  0.2118  8175638.3640  0.0000 1.0000 -16023956.5323 16023956.9558\n",
       "x11  0.1280  9995377.0182  0.0000 1.0000 -19590578.8396 19590579.0956\n",
       "x12  0.0823 11555110.1947  0.0000 1.0000 -22647599.7367 22647599.9013\n",
       "x13 -0.3292  9895348.1673 -0.0000 1.0000 -19394526.3516 19394525.6932\n",
       "x14 -0.2540  7939369.6610 -0.0000 1.0000 -15560878.8495 15560878.3416\n",
       "x15 -0.0559  9532946.6442 -0.0000 1.0000 -18684232.1451 18684232.0333\n",
       "x16  0.3140 11154683.7581  0.0000 1.0000 -21862778.1108 21862778.7387\n",
       "x17 -0.3531  9877278.7123 -0.0000 1.0000 -19359110.8945 19359110.1883\n",
       "x18  0.0496  9793459.5767  0.0000 1.0000 -19194828.0048 19194828.1041\n",
       "x19  0.5631  9523379.3029  0.0000 1.0000 -18665479.8817 18665481.0080\n",
       "x20  0.0243  8662709.2359  0.0000 1.0000 -16978598.0867 16978598.1352\n",
       "x21  0.4641 10456507.0544  0.0000 1.0000 -20494376.7665 20494377.6947\n",
       "x22  0.2802           nan     nan    nan            nan           nan\n",
       "x23 -0.1812           nan     nan    nan            nan           nan\n",
       "x24  0.1598  1959469.6797  0.0000 1.0000  -3840489.8413  3840490.1609\n",
       "x25 -0.0209  2147033.7207 -0.0000 1.0000  -4208108.7871  4208108.7452\n",
       "x26 -0.1144  2570028.5485 -0.0000 1.0000  -5037163.5088  5037163.2800\n",
       "x27 -0.2137  2783349.3916 -0.0000 1.0000  -5455264.7777  5455264.3503\n",
       "x28  0.1861  2580299.1665  0.0000 1.0000  -5057293.2497  5057293.6218\n",
       "x29 -0.6975           nan     nan    nan            nan           nan\n",
       "x30  0.4817           nan     nan    nan            nan           nan\n",
       "x31  0.3897           nan     nan    nan            nan           nan\n",
       "x32 -0.0031  3999581.3756 -0.0000 1.0000  -7839035.4524  7839035.4463\n",
       "x33 -0.7322  3998683.2996 -0.0000 1.0000  -7837275.9849  7837274.5206\n",
       "x34  0.7718  4000479.2500  0.0000 1.0000  -7840794.4790  7840796.0226\n",
       "x35 -0.3070  3998683.2996 -0.0000 1.0000  -7837275.5597  7837274.9458\n",
       "x36 -1.0749  3997785.0218 -0.0000 1.0000  -7835515.7357  7835513.5858\n",
       "x37 -0.4410  3999581.3756 -0.0000 1.0000  -7839035.8903  7839035.0084\n",
       "x38  0.1597  3998683.2996  0.0000 1.0000  -7837275.0931  7837275.4124\n",
       "x39  1.1095  3999581.3756  0.0000 1.0000  -7839034.3399  7839036.5588\n",
       "x40 -0.2897  3998683.2996 -0.0000 1.0000  -7837275.5424  7837274.9631\n",
       "x41 -0.6775  4000479.2500 -0.0000 1.0000  -7840795.9283  7840794.5733\n",
       "x42  0.9774  3999581.3756  0.0000 1.0000  -7839034.4719  7839036.4268\n",
       "x43  0.6809  3999581.3756  0.0000 1.0000  -7839034.7685  7839036.1302\n",
       "x44 -0.1578           nan     nan    nan            nan           nan\n",
       "x45 -0.5875           nan     nan    nan            nan           nan\n",
       "x46 -0.6749           nan     nan    nan            nan           nan\n",
       "x47  1.5941           nan     nan    nan            nan           nan\n",
       "=====================================================================\n",
       "\n",
       "\"\"\""
      ]
     },
     "execution_count": 123,
     "metadata": {},
     "output_type": "execute_result"
    }
   ],
   "source": [
    "result2.summary2()"
   ]
  },
  {
   "cell_type": "code",
   "execution_count": 124,
   "metadata": {
    "collapsed": true
   },
   "outputs": [],
   "source": [
    "logit_mod3 = sm.Logit(y_train.values.tolist(),x_train.values.tolist())"
   ]
  },
  {
   "cell_type": "code",
   "execution_count": 125,
   "metadata": {
    "collapsed": true
   },
   "outputs": [
    {
     "name": "stdout",
     "output_type": "stream",
     "text": [
      "Optimization terminated successfully.\n",
      "         Current function value: 0.562245\n",
      "         Iterations 8\n"
     ]
    }
   ],
   "source": [
    "result3 = logit_mod3.fit()"
   ]
  },
  {
   "cell_type": "code",
   "execution_count": 126,
   "metadata": {
    "collapsed": true
   },
   "outputs": [
    {
     "data": {
      "text/html": [
       "<table class=\"simpletable\">\n",
       "<tr>\n",
       "        <td>Model:</td>              <td>Logit</td>      <td>Pseudo R-squared:</td>    <td>0.167</td>   \n",
       "</tr>\n",
       "<tr>\n",
       "  <td>Dependent Variable:</td>         <td>y</td>              <td>AIC:</td>         <td>3231.4469</td> \n",
       "</tr>\n",
       "<tr>\n",
       "         <td>Date:</td>        <td>2021-09-06 20:10</td>       <td>BIC:</td>         <td>3480.8017</td> \n",
       "</tr>\n",
       "<tr>\n",
       "   <td>No. Observations:</td>        <td>2799</td>        <td>Log-Likelihood:</td>    <td>-1573.7</td>  \n",
       "</tr>\n",
       "<tr>\n",
       "       <td>Df Model:</td>             <td>41</td>            <td>LL-Null:</td>        <td>-1888.3</td>  \n",
       "</tr>\n",
       "<tr>\n",
       "     <td>Df Residuals:</td>          <td>2757</td>         <td>LLR p-value:</td>    <td>2.4411e-106</td>\n",
       "</tr>\n",
       "<tr>\n",
       "      <td>Converged:</td>           <td>1.0000</td>           <td>Scale:</td>         <td>1.0000</td>   \n",
       "</tr>\n",
       "<tr>\n",
       "    <td>No. Iterations:</td>        <td>8.0000</td>              <td></td>               <td></td>      \n",
       "</tr>\n",
       "</table>\n",
       "<table class=\"simpletable\">\n",
       "<tr>\n",
       "   <td></td>    <th>Coef.</th>    <th>Std.Err.</th>       <th>z</th>     <th>P>|z|</th>     <th>[0.025</th>        <th>0.975]</th>    \n",
       "</tr>\n",
       "<tr>\n",
       "  <th>x1</th>  <td>0.0046</td>     <td>0.0052</td>     <td>0.8935</td>  <td>0.3716</td>     <td>-0.0055</td>       <td>0.0147</td>    \n",
       "</tr>\n",
       "<tr>\n",
       "  <th>x2</th>  <td>-0.2270</td>    <td>0.3855</td>     <td>-0.5888</td> <td>0.5560</td>     <td>-0.9826</td>       <td>0.5286</td>    \n",
       "</tr>\n",
       "<tr>\n",
       "  <th>x3</th>  <td>0.0000</td>     <td>0.0000</td>     <td>0.2359</td>  <td>0.8135</td>     <td>-0.0000</td>       <td>0.0000</td>    \n",
       "</tr>\n",
       "<tr>\n",
       "  <th>x4</th>  <td>-0.5830</td>    <td>0.1016</td>     <td>-5.7409</td> <td>0.0000</td>     <td>-0.7820</td>       <td>-0.3840</td>   \n",
       "</tr>\n",
       "<tr>\n",
       "  <th>x5</th>  <td>-0.2016</td>    <td>0.1383</td>     <td>-1.4574</td> <td>0.1450</td>     <td>-0.4727</td>       <td>0.0695</td>    \n",
       "</tr>\n",
       "<tr>\n",
       "  <th>x6</th>  <td>-0.0015</td>    <td>0.0060</td>     <td>-0.2431</td> <td>0.8080</td>     <td>-0.0132</td>       <td>0.0103</td>    \n",
       "</tr>\n",
       "<tr>\n",
       "  <th>x7</th>  <td>-0.0631</td>    <td>0.0187</td>     <td>-3.3777</td> <td>0.0007</td>     <td>-0.0997</td>       <td>-0.0265</td>   \n",
       "</tr>\n",
       "<tr>\n",
       "  <th>x8</th>  <td>0.0006</td>     <td>0.0008</td>     <td>0.8102</td>  <td>0.4178</td>     <td>-0.0009</td>       <td>0.0022</td>    \n",
       "</tr>\n",
       "<tr>\n",
       "  <th>x9</th>  <td>0.0698</td>     <td>0.0327</td>     <td>2.1350</td>  <td>0.0328</td>     <td>0.0057</td>        <td>0.1339</td>    \n",
       "</tr>\n",
       "<tr>\n",
       "  <th>x10</th> <td>0.2118</td>  <td>8175638.3640</td>  <td>0.0000</td>  <td>1.0000</td> <td>-16023956.5323</td> <td>16023956.9558</td>\n",
       "</tr>\n",
       "<tr>\n",
       "  <th>x11</th> <td>0.1280</td>  <td>9995377.0182</td>  <td>0.0000</td>  <td>1.0000</td> <td>-19590578.8396</td> <td>19590579.0956</td>\n",
       "</tr>\n",
       "<tr>\n",
       "  <th>x12</th> <td>0.0823</td>  <td>11555110.1947</td> <td>0.0000</td>  <td>1.0000</td> <td>-22647599.7367</td> <td>22647599.9013</td>\n",
       "</tr>\n",
       "<tr>\n",
       "  <th>x13</th> <td>-0.3292</td> <td>9895348.1673</td>  <td>-0.0000</td> <td>1.0000</td> <td>-19394526.3516</td> <td>19394525.6932</td>\n",
       "</tr>\n",
       "<tr>\n",
       "  <th>x14</th> <td>-0.2540</td> <td>7939369.6610</td>  <td>-0.0000</td> <td>1.0000</td> <td>-15560878.8495</td> <td>15560878.3416</td>\n",
       "</tr>\n",
       "<tr>\n",
       "  <th>x15</th> <td>-0.0559</td> <td>9532946.6442</td>  <td>-0.0000</td> <td>1.0000</td> <td>-18684232.1451</td> <td>18684232.0333</td>\n",
       "</tr>\n",
       "<tr>\n",
       "  <th>x16</th> <td>0.3140</td>  <td>11154683.7581</td> <td>0.0000</td>  <td>1.0000</td> <td>-21862778.1108</td> <td>21862778.7387</td>\n",
       "</tr>\n",
       "<tr>\n",
       "  <th>x17</th> <td>-0.3531</td> <td>9877278.7123</td>  <td>-0.0000</td> <td>1.0000</td> <td>-19359110.8945</td> <td>19359110.1883</td>\n",
       "</tr>\n",
       "<tr>\n",
       "  <th>x18</th> <td>0.0496</td>  <td>9793459.5767</td>  <td>0.0000</td>  <td>1.0000</td> <td>-19194828.0048</td> <td>19194828.1041</td>\n",
       "</tr>\n",
       "<tr>\n",
       "  <th>x19</th> <td>0.5631</td>  <td>9523379.3029</td>  <td>0.0000</td>  <td>1.0000</td> <td>-18665479.8817</td> <td>18665481.0080</td>\n",
       "</tr>\n",
       "<tr>\n",
       "  <th>x20</th> <td>0.0243</td>  <td>8662709.2359</td>  <td>0.0000</td>  <td>1.0000</td> <td>-16978598.0867</td> <td>16978598.1352</td>\n",
       "</tr>\n",
       "<tr>\n",
       "  <th>x21</th> <td>0.4641</td>  <td>10456507.0544</td> <td>0.0000</td>  <td>1.0000</td> <td>-20494376.7665</td> <td>20494377.6947</td>\n",
       "</tr>\n",
       "<tr>\n",
       "  <th>x22</th> <td>0.2802</td>       <td>nan</td>        <td>nan</td>     <td>nan</td>        <td>nan</td>           <td>nan</td>     \n",
       "</tr>\n",
       "<tr>\n",
       "  <th>x23</th> <td>-0.1812</td>      <td>nan</td>        <td>nan</td>     <td>nan</td>        <td>nan</td>           <td>nan</td>     \n",
       "</tr>\n",
       "<tr>\n",
       "  <th>x24</th> <td>0.1598</td>  <td>1959469.6797</td>  <td>0.0000</td>  <td>1.0000</td>  <td>-3840489.8413</td> <td>3840490.1609</td> \n",
       "</tr>\n",
       "<tr>\n",
       "  <th>x25</th> <td>-0.0209</td> <td>2147033.7207</td>  <td>-0.0000</td> <td>1.0000</td>  <td>-4208108.7871</td> <td>4208108.7452</td> \n",
       "</tr>\n",
       "<tr>\n",
       "  <th>x26</th> <td>-0.1144</td> <td>2570028.5485</td>  <td>-0.0000</td> <td>1.0000</td>  <td>-5037163.5088</td> <td>5037163.2800</td> \n",
       "</tr>\n",
       "<tr>\n",
       "  <th>x27</th> <td>-0.2137</td> <td>2783349.3916</td>  <td>-0.0000</td> <td>1.0000</td>  <td>-5455264.7777</td> <td>5455264.3503</td> \n",
       "</tr>\n",
       "<tr>\n",
       "  <th>x28</th> <td>0.1861</td>  <td>2580299.1665</td>  <td>0.0000</td>  <td>1.0000</td>  <td>-5057293.2497</td> <td>5057293.6218</td> \n",
       "</tr>\n",
       "<tr>\n",
       "  <th>x29</th> <td>-0.6975</td>      <td>nan</td>        <td>nan</td>     <td>nan</td>        <td>nan</td>           <td>nan</td>     \n",
       "</tr>\n",
       "<tr>\n",
       "  <th>x30</th> <td>0.4817</td>       <td>nan</td>        <td>nan</td>     <td>nan</td>        <td>nan</td>           <td>nan</td>     \n",
       "</tr>\n",
       "<tr>\n",
       "  <th>x31</th> <td>0.3897</td>       <td>nan</td>        <td>nan</td>     <td>nan</td>        <td>nan</td>           <td>nan</td>     \n",
       "</tr>\n",
       "<tr>\n",
       "  <th>x32</th> <td>-0.0031</td> <td>3999581.3756</td>  <td>-0.0000</td> <td>1.0000</td>  <td>-7839035.4524</td> <td>7839035.4463</td> \n",
       "</tr>\n",
       "<tr>\n",
       "  <th>x33</th> <td>-0.7322</td> <td>3998683.2996</td>  <td>-0.0000</td> <td>1.0000</td>  <td>-7837275.9849</td> <td>7837274.5206</td> \n",
       "</tr>\n",
       "<tr>\n",
       "  <th>x34</th> <td>0.7718</td>  <td>4000479.2500</td>  <td>0.0000</td>  <td>1.0000</td>  <td>-7840794.4790</td> <td>7840796.0226</td> \n",
       "</tr>\n",
       "<tr>\n",
       "  <th>x35</th> <td>-0.3070</td> <td>3998683.2996</td>  <td>-0.0000</td> <td>1.0000</td>  <td>-7837275.5597</td> <td>7837274.9458</td> \n",
       "</tr>\n",
       "<tr>\n",
       "  <th>x36</th> <td>-1.0749</td> <td>3997785.0218</td>  <td>-0.0000</td> <td>1.0000</td>  <td>-7835515.7357</td> <td>7835513.5858</td> \n",
       "</tr>\n",
       "<tr>\n",
       "  <th>x37</th> <td>-0.4410</td> <td>3999581.3756</td>  <td>-0.0000</td> <td>1.0000</td>  <td>-7839035.8903</td> <td>7839035.0084</td> \n",
       "</tr>\n",
       "<tr>\n",
       "  <th>x38</th> <td>0.1597</td>  <td>3998683.2996</td>  <td>0.0000</td>  <td>1.0000</td>  <td>-7837275.0931</td> <td>7837275.4124</td> \n",
       "</tr>\n",
       "<tr>\n",
       "  <th>x39</th> <td>1.1095</td>  <td>3999581.3756</td>  <td>0.0000</td>  <td>1.0000</td>  <td>-7839034.3399</td> <td>7839036.5588</td> \n",
       "</tr>\n",
       "<tr>\n",
       "  <th>x40</th> <td>-0.2897</td> <td>3998683.2996</td>  <td>-0.0000</td> <td>1.0000</td>  <td>-7837275.5424</td> <td>7837274.9631</td> \n",
       "</tr>\n",
       "<tr>\n",
       "  <th>x41</th> <td>-0.6775</td> <td>4000479.2500</td>  <td>-0.0000</td> <td>1.0000</td>  <td>-7840795.9283</td> <td>7840794.5733</td> \n",
       "</tr>\n",
       "<tr>\n",
       "  <th>x42</th> <td>0.9774</td>  <td>3999581.3756</td>  <td>0.0000</td>  <td>1.0000</td>  <td>-7839034.4719</td> <td>7839036.4268</td> \n",
       "</tr>\n",
       "<tr>\n",
       "  <th>x43</th> <td>0.6809</td>  <td>3999581.3756</td>  <td>0.0000</td>  <td>1.0000</td>  <td>-7839034.7685</td> <td>7839036.1302</td> \n",
       "</tr>\n",
       "<tr>\n",
       "  <th>x44</th> <td>-0.1578</td>      <td>nan</td>        <td>nan</td>     <td>nan</td>        <td>nan</td>           <td>nan</td>     \n",
       "</tr>\n",
       "<tr>\n",
       "  <th>x45</th> <td>-0.5875</td>      <td>nan</td>        <td>nan</td>     <td>nan</td>        <td>nan</td>           <td>nan</td>     \n",
       "</tr>\n",
       "<tr>\n",
       "  <th>x46</th> <td>-0.6749</td>      <td>nan</td>        <td>nan</td>     <td>nan</td>        <td>nan</td>           <td>nan</td>     \n",
       "</tr>\n",
       "<tr>\n",
       "  <th>x47</th> <td>1.5941</td>       <td>nan</td>        <td>nan</td>     <td>nan</td>        <td>nan</td>           <td>nan</td>     \n",
       "</tr>\n",
       "</table>"
      ],
      "text/plain": [
       "<class 'statsmodels.iolib.summary2.Summary'>\n",
       "\"\"\"\n",
       "                           Results: Logit\n",
       "=====================================================================\n",
       "Model:               Logit             Pseudo R-squared:  0.167      \n",
       "Dependent Variable:  y                 AIC:               3231.4469  \n",
       "Date:                2021-09-06 20:10  BIC:               3480.8017  \n",
       "No. Observations:    2799              Log-Likelihood:    -1573.7    \n",
       "Df Model:            41                LL-Null:           -1888.3    \n",
       "Df Residuals:        2757              LLR p-value:       2.4411e-106\n",
       "Converged:           1.0000            Scale:             1.0000     \n",
       "No. Iterations:      8.0000                                          \n",
       "---------------------------------------------------------------------\n",
       "     Coef.     Std.Err.      z    P>|z|      [0.025         0.975]   \n",
       "---------------------------------------------------------------------\n",
       "x1   0.0046        0.0052  0.8935 0.3716        -0.0055        0.0147\n",
       "x2  -0.2270        0.3855 -0.5888 0.5560        -0.9826        0.5286\n",
       "x3   0.0000        0.0000  0.2359 0.8135        -0.0000        0.0000\n",
       "x4  -0.5830        0.1016 -5.7409 0.0000        -0.7820       -0.3840\n",
       "x5  -0.2016        0.1383 -1.4574 0.1450        -0.4727        0.0695\n",
       "x6  -0.0015        0.0060 -0.2431 0.8080        -0.0132        0.0103\n",
       "x7  -0.0631        0.0187 -3.3777 0.0007        -0.0997       -0.0265\n",
       "x8   0.0006        0.0008  0.8102 0.4178        -0.0009        0.0022\n",
       "x9   0.0698        0.0327  2.1350 0.0328         0.0057        0.1339\n",
       "x10  0.2118  8175638.3640  0.0000 1.0000 -16023956.5323 16023956.9558\n",
       "x11  0.1280  9995377.0182  0.0000 1.0000 -19590578.8396 19590579.0956\n",
       "x12  0.0823 11555110.1947  0.0000 1.0000 -22647599.7367 22647599.9013\n",
       "x13 -0.3292  9895348.1673 -0.0000 1.0000 -19394526.3516 19394525.6932\n",
       "x14 -0.2540  7939369.6610 -0.0000 1.0000 -15560878.8495 15560878.3416\n",
       "x15 -0.0559  9532946.6442 -0.0000 1.0000 -18684232.1451 18684232.0333\n",
       "x16  0.3140 11154683.7581  0.0000 1.0000 -21862778.1108 21862778.7387\n",
       "x17 -0.3531  9877278.7123 -0.0000 1.0000 -19359110.8945 19359110.1883\n",
       "x18  0.0496  9793459.5767  0.0000 1.0000 -19194828.0048 19194828.1041\n",
       "x19  0.5631  9523379.3029  0.0000 1.0000 -18665479.8817 18665481.0080\n",
       "x20  0.0243  8662709.2359  0.0000 1.0000 -16978598.0867 16978598.1352\n",
       "x21  0.4641 10456507.0544  0.0000 1.0000 -20494376.7665 20494377.6947\n",
       "x22  0.2802           nan     nan    nan            nan           nan\n",
       "x23 -0.1812           nan     nan    nan            nan           nan\n",
       "x24  0.1598  1959469.6797  0.0000 1.0000  -3840489.8413  3840490.1609\n",
       "x25 -0.0209  2147033.7207 -0.0000 1.0000  -4208108.7871  4208108.7452\n",
       "x26 -0.1144  2570028.5485 -0.0000 1.0000  -5037163.5088  5037163.2800\n",
       "x27 -0.2137  2783349.3916 -0.0000 1.0000  -5455264.7777  5455264.3503\n",
       "x28  0.1861  2580299.1665  0.0000 1.0000  -5057293.2497  5057293.6218\n",
       "x29 -0.6975           nan     nan    nan            nan           nan\n",
       "x30  0.4817           nan     nan    nan            nan           nan\n",
       "x31  0.3897           nan     nan    nan            nan           nan\n",
       "x32 -0.0031  3999581.3756 -0.0000 1.0000  -7839035.4524  7839035.4463\n",
       "x33 -0.7322  3998683.2996 -0.0000 1.0000  -7837275.9849  7837274.5206\n",
       "x34  0.7718  4000479.2500  0.0000 1.0000  -7840794.4790  7840796.0226\n",
       "x35 -0.3070  3998683.2996 -0.0000 1.0000  -7837275.5597  7837274.9458\n",
       "x36 -1.0749  3997785.0218 -0.0000 1.0000  -7835515.7357  7835513.5858\n",
       "x37 -0.4410  3999581.3756 -0.0000 1.0000  -7839035.8903  7839035.0084\n",
       "x38  0.1597  3998683.2996  0.0000 1.0000  -7837275.0931  7837275.4124\n",
       "x39  1.1095  3999581.3756  0.0000 1.0000  -7839034.3399  7839036.5588\n",
       "x40 -0.2897  3998683.2996 -0.0000 1.0000  -7837275.5424  7837274.9631\n",
       "x41 -0.6775  4000479.2500 -0.0000 1.0000  -7840795.9283  7840794.5733\n",
       "x42  0.9774  3999581.3756  0.0000 1.0000  -7839034.4719  7839036.4268\n",
       "x43  0.6809  3999581.3756  0.0000 1.0000  -7839034.7685  7839036.1302\n",
       "x44 -0.1578           nan     nan    nan            nan           nan\n",
       "x45 -0.5875           nan     nan    nan            nan           nan\n",
       "x46 -0.6749           nan     nan    nan            nan           nan\n",
       "x47  1.5941           nan     nan    nan            nan           nan\n",
       "=====================================================================\n",
       "\n",
       "\"\"\""
      ]
     },
     "execution_count": 126,
     "metadata": {},
     "output_type": "execute_result"
    }
   ],
   "source": [
    "result3.summary2()"
   ]
  },
  {
   "cell_type": "code",
   "execution_count": null,
   "metadata": {
    "collapsed": true
   },
   "outputs": [],
   "source": []
  }
 ],
 "metadata": {
  "kernelspec": {
   "display_name": "Python 3 (ipykernel)",
   "language": "python",
   "name": "python3"
  },
  "language_info": {
   "codemirror_mode": {
    "name": "ipython",
    "version": 3
   },
   "file_extension": ".py",
   "mimetype": "text/x-python",
   "name": "python",
   "nbconvert_exporter": "python",
   "pygments_lexer": "ipython3",
   "version": "3.8.11"
  }
 },
 "nbformat": 4,
 "nbformat_minor": 4
}
